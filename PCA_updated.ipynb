{
 "cells": [
  {
   "cell_type": "code",
   "execution_count": 1,
   "id": "4e8fd6a6",
   "metadata": {},
   "outputs": [],
   "source": [
    "#Import the packages\n",
    "\n",
    "import numpy as np\n",
    "import pandas as pd\n",
    "import matplotlib.pyplot as plt"
   ]
  },
  {
   "cell_type": "code",
   "execution_count": 2,
   "id": "0ab4a7d4",
   "metadata": {},
   "outputs": [
    {
     "data": {
      "text/plain": [
       "199.8413904693881"
      ]
     },
     "execution_count": 2,
     "metadata": {},
     "output_type": "execute_result"
    }
   ],
   "source": [
    "# Will create a data having some multicollinearity\n",
    "x=np.random.normal(200,10,500)  # mean =200, std=10, no of observations=500\n",
    "x.mean()"
   ]
  },
  {
   "cell_type": "code",
   "execution_count": 3,
   "id": "b3eeedf0",
   "metadata": {},
   "outputs": [
    {
     "data": {
      "text/plain": [
       "9.785905338243317"
      ]
     },
     "execution_count": 3,
     "metadata": {},
     "output_type": "execute_result"
    }
   ],
   "source": [
    "x.std()"
   ]
  },
  {
   "cell_type": "code",
   "execution_count": 4,
   "id": "6a97017c",
   "metadata": {},
   "outputs": [
    {
     "data": {
      "text/plain": [
       "500"
      ]
     },
     "execution_count": 4,
     "metadata": {},
     "output_type": "execute_result"
    }
   ],
   "source": [
    "len(x)"
   ]
  },
  {
   "cell_type": "code",
   "execution_count": 5,
   "id": "80fe57e0",
   "metadata": {},
   "outputs": [
    {
     "data": {
      "image/png": "[encoded data removed]",
      "text/plain": [
       "<Figure size 640x480 with 1 Axes>"
      ]
     },
     "metadata": {},
     "output_type": "display_data"
    }
   ],
   "source": [
    "# we created a data having mean=200, std=10 no.of samples are 50\n",
    "plt.hist(x,bins=100)\n",
    "plt.show()"
   ]
  },
  {
   "cell_type": "code",
   "execution_count": 6,
   "id": "e40b8d51",
   "metadata": {},
   "outputs": [
    {
     "name": "stdout",
     "output_type": "stream",
     "text": [
      "mean: 110.00121723766732\n",
      "std: 7.181848232372699\n"
     ]
    }
   ],
   "source": [
    "# Create a data y , should be correlate to X\n",
    "y=0.5*x + np.random.normal(10,5,500)\n",
    "# we are taking random samples\n",
    "# and we are adding x data to the samples\n",
    "print(\"mean:\",y.mean())\n",
    "print(\"std:\",y.std())"
   ]
  },
  {
   "cell_type": "code",
   "execution_count": 7,
   "id": "907ab8c4",
   "metadata": {},
   "outputs": [
    {
     "data": {
      "image/png": "[encoded data removed]",
      "text/plain": [
       "<Figure size 640x480 with 1 Axes>"
      ]
     },
     "metadata": {},
     "output_type": "display_data"
    }
   ],
   "source": [
    "plt.hist(y,bins=100)\n",
    "plt.show()"
   ]
  },
  {
   "cell_type": "code",
   "execution_count": 9,
   "id": "22de81d8",
   "metadata": {},
   "outputs": [
    {
     "data": {
      "text/plain": [
       "array([200.52696325, 195.6388117 , 201.18386827, 211.73518517,\n",
       "       187.45258677, 194.37308478, 201.88744074, 190.69479953,\n",
       "       194.43110071, 176.74236107])"
      ]
     },
     "execution_count": 9,
     "metadata": {},
     "output_type": "execute_result"
    }
   ],
   "source": [
    "x[:10]"
   ]
  },
  {
   "cell_type": "code",
   "execution_count": 10,
   "id": "64208d7d",
   "metadata": {},
   "outputs": [
    {
     "data": {
      "text/plain": [
       "array([103.33294895, 103.64762952, 107.13331989, 125.55732069,\n",
       "       113.72793651, 108.01888815, 114.68438874, 106.01654748,\n",
       "       100.17975115, 103.2522037 ])"
      ]
     },
     "execution_count": 10,
     "metadata": {},
     "output_type": "execute_result"
    }
   ],
   "source": [
    "y[:10]"
   ]
  },
  {
   "cell_type": "code",
   "execution_count": 8,
   "id": "d2c44e99",
   "metadata": {},
   "outputs": [],
   "source": [
    "data=pd.DataFrame()\n",
    "data['x']=x\n",
    "data['y']=y"
   ]
  },
  {
   "cell_type": "code",
   "execution_count": 9,
   "id": "961512ff",
   "metadata": {},
   "outputs": [
    {
     "data": {
      "text/html": [
       "<div>\n",
       "<style scoped>\n",
       "    .dataframe tbody tr th:only-of-type {\n",
       "        vertical-align: middle;\n",
       "    }\n",
       "\n",
       "    .dataframe tbody tr th {\n",
       "        vertical-align: top;\n",
       "    }\n",
       "\n",
       "    .dataframe thead th {\n",
       "        text-align: right;\n",
       "    }\n",
       "</style>\n",
       "<table border=\"1\" class=\"dataframe\">\n",
       "  <thead>\n",
       "    <tr style=\"text-align: right;\">\n",
       "      <th></th>\n",
       "      <th>x</th>\n",
       "      <th>y</th>\n",
       "    </tr>\n",
       "  </thead>\n",
       "  <tbody>\n",
       "    <tr>\n",
       "      <th>0</th>\n",
       "      <td>200.064492</td>\n",
       "      <td>115.844378</td>\n",
       "    </tr>\n",
       "    <tr>\n",
       "      <th>1</th>\n",
       "      <td>201.258907</td>\n",
       "      <td>104.863471</td>\n",
       "    </tr>\n",
       "    <tr>\n",
       "      <th>2</th>\n",
       "      <td>197.529456</td>\n",
       "      <td>108.388659</td>\n",
       "    </tr>\n",
       "    <tr>\n",
       "      <th>3</th>\n",
       "      <td>193.760248</td>\n",
       "      <td>110.445957</td>\n",
       "    </tr>\n",
       "    <tr>\n",
       "      <th>4</th>\n",
       "      <td>190.115502</td>\n",
       "      <td>103.046812</td>\n",
       "    </tr>\n",
       "    <tr>\n",
       "      <th>...</th>\n",
       "      <td>...</td>\n",
       "      <td>...</td>\n",
       "    </tr>\n",
       "    <tr>\n",
       "      <th>495</th>\n",
       "      <td>199.549021</td>\n",
       "      <td>113.918792</td>\n",
       "    </tr>\n",
       "    <tr>\n",
       "      <th>496</th>\n",
       "      <td>198.316648</td>\n",
       "      <td>108.783196</td>\n",
       "    </tr>\n",
       "    <tr>\n",
       "      <th>497</th>\n",
       "      <td>209.543769</td>\n",
       "      <td>124.530504</td>\n",
       "    </tr>\n",
       "    <tr>\n",
       "      <th>498</th>\n",
       "      <td>215.866456</td>\n",
       "      <td>117.345660</td>\n",
       "    </tr>\n",
       "    <tr>\n",
       "      <th>499</th>\n",
       "      <td>191.003170</td>\n",
       "      <td>105.595134</td>\n",
       "    </tr>\n",
       "  </tbody>\n",
       "</table>\n",
       "<p>500 rows × 2 columns</p>\n",
       "</div>"
      ],
      "text/plain": [
       "              x           y\n",
       "0    200.064492  115.844378\n",
       "1    201.258907  104.863471\n",
       "2    197.529456  108.388659\n",
       "3    193.760248  110.445957\n",
       "4    190.115502  103.046812\n",
       "..          ...         ...\n",
       "495  199.549021  113.918792\n",
       "496  198.316648  108.783196\n",
       "497  209.543769  124.530504\n",
       "498  215.866456  117.345660\n",
       "499  191.003170  105.595134\n",
       "\n",
       "[500 rows x 2 columns]"
      ]
     },
     "execution_count": 9,
     "metadata": {},
     "output_type": "execute_result"
    }
   ],
   "source": [
    "data"
   ]
  },
  {
   "cell_type": "code",
   "execution_count": 10,
   "id": "ca76d7ad",
   "metadata": {},
   "outputs": [
    {
     "data": {
      "text/plain": [
       "array([[200.06449206, 115.84437759],\n",
       "       [201.2589068 , 104.86347112],\n",
       "       [197.5294557 , 108.38865873],\n",
       "       [193.76024803, 110.44595703],\n",
       "       [190.11550175, 103.04681249],\n",
       "       [200.92704688, 118.86852547],\n",
       "       [199.87033408, 113.62477964],\n",
       "       [198.88667318, 109.76213633],\n",
       "       [203.59643178, 113.46330321],\n",
       "       [201.18617178, 109.5337716 ],\n",
       "       [187.14075605, 106.78297609],\n",
       "       [219.70269616, 120.23269543],\n",
       "       [208.16175038, 123.76724147],\n",
       "       [191.29621957, 108.04279116],\n",
       "       [186.3423945 , 100.51648072],\n",
       "       [189.22894001, 107.47123678],\n",
       "       [199.55301171, 108.67112575],\n",
       "       [193.67010117, 110.83885414],\n",
       "       [204.23189085, 111.72552023],\n",
       "       [211.69669396, 106.93869855],\n",
       "       [200.50366682, 109.96977942],\n",
       "       [191.42035138, 104.10449892],\n",
       "       [186.4048684 , 108.7004143 ],\n",
       "       [201.54381514, 112.63763085],\n",
       "       [214.43557523, 118.39891694],\n",
       "       [209.63314057, 116.33833221],\n",
       "       [204.62272181, 116.1423934 ],\n",
       "       [185.20269367,  98.67832531],\n",
       "       [198.40603568, 102.64279727],\n",
       "       [204.82751404, 117.65467446],\n",
       "       [224.27292367, 121.03943558],\n",
       "       [201.59061474, 103.26439283],\n",
       "       [201.27588931, 116.22794586],\n",
       "       [198.73385181, 106.80609693],\n",
       "       [204.71476432, 110.48574444],\n",
       "       [210.36652665, 114.25570959],\n",
       "       [208.28980176, 113.7615343 ],\n",
       "       [195.84252957, 110.46187189],\n",
       "       [201.68332816, 117.14936023],\n",
       "       [208.87991258, 114.3767255 ],\n",
       "       [210.25903429, 111.26220325],\n",
       "       [211.18518326, 125.91258407],\n",
       "       [200.43704588, 114.23652955],\n",
       "       [217.30862677, 124.91428095],\n",
       "       [212.0482631 , 117.56516219],\n",
       "       [212.94014898, 127.62830428],\n",
       "       [200.84784524, 108.1298958 ],\n",
       "       [198.25715371, 110.63102362],\n",
       "       [198.09922199, 106.60678456],\n",
       "       [192.83556697, 112.36469741],\n",
       "       [187.040068  ,  98.76051819],\n",
       "       [208.61466507, 111.2543723 ],\n",
       "       [192.99420942, 109.99294529],\n",
       "       [197.44012456, 110.05053507],\n",
       "       [214.56883954, 114.96881223],\n",
       "       [199.70215283, 114.75703134],\n",
       "       [198.85052114, 110.92053394],\n",
       "       [177.90996   ,  97.65016803],\n",
       "       [204.35233572, 113.51373779],\n",
       "       [213.19213801, 114.09574588],\n",
       "       [207.67057683, 105.5066865 ],\n",
       "       [196.82909444, 104.59993947],\n",
       "       [195.99595649, 104.72471445],\n",
       "       [191.15541991, 105.66167164],\n",
       "       [196.96712183, 105.95229496],\n",
       "       [196.98510116, 100.79911116],\n",
       "       [211.49738672, 114.05990395],\n",
       "       [189.15339593, 110.460754  ],\n",
       "       [203.44687059, 113.83656382],\n",
       "       [215.86186663, 105.52044732],\n",
       "       [179.7883912 ,  92.52399366],\n",
       "       [194.01233468,  98.04096245],\n",
       "       [191.09872924, 106.67512714],\n",
       "       [191.55599414, 104.79259573],\n",
       "       [185.9190355 , 109.07661489],\n",
       "       [196.44107464, 109.89541857],\n",
       "       [200.75491063, 120.99774875],\n",
       "       [200.26044003, 111.99924777],\n",
       "       [208.45015221, 104.01803463],\n",
       "       [197.7688585 , 105.54484106],\n",
       "       [205.54628218, 117.47884836],\n",
       "       [192.18223463, 105.74384768],\n",
       "       [207.12604861, 117.20574185],\n",
       "       [197.24448397, 100.29756935],\n",
       "       [188.25978442,  98.61463081],\n",
       "       [207.20382066, 107.66740354],\n",
       "       [210.22590071, 114.23772038],\n",
       "       [204.18032538, 119.093964  ],\n",
       "       [195.577015  , 106.28899375],\n",
       "       [188.58548456, 115.11820453],\n",
       "       [207.91244313, 116.34890124],\n",
       "       [217.01631075, 113.34322793],\n",
       "       [212.39068955, 117.39614345],\n",
       "       [197.80661654, 107.76115581],\n",
       "       [201.27570197, 111.69078519],\n",
       "       [203.57320536, 109.46722291],\n",
       "       [195.10257323, 101.04142538],\n",
       "       [203.69694102, 111.68249503],\n",
       "       [173.49910252,  95.33484943],\n",
       "       [200.66972149,  97.52336961],\n",
       "       [186.01257125, 107.83325295],\n",
       "       [193.69761849, 102.25309411],\n",
       "       [193.5500381 , 112.5965552 ],\n",
       "       [197.33767345, 109.89588256],\n",
       "       [214.62037877, 118.64923298],\n",
       "       [194.21736914, 102.85908485],\n",
       "       [193.16781261,  96.90357234],\n",
       "       [195.70906948, 107.54694627],\n",
       "       [195.31486826, 111.19618072],\n",
       "       [194.48222138, 110.67213197],\n",
       "       [197.74930401, 105.16780249],\n",
       "       [203.48078442, 102.6753132 ],\n",
       "       [217.35879663, 118.81669735],\n",
       "       [208.84409162, 120.75633209],\n",
       "       [201.89276879, 113.33770887],\n",
       "       [199.5262324 , 112.34039502],\n",
       "       [197.59687116, 103.93562714],\n",
       "       [194.59706857, 101.79380102],\n",
       "       [215.57700365, 120.99263784],\n",
       "       [190.64482755, 102.15062245],\n",
       "       [204.48564802, 116.3622119 ],\n",
       "       [210.73343006, 117.10790921],\n",
       "       [198.20556321, 106.84456061],\n",
       "       [205.98074435, 115.6689994 ],\n",
       "       [189.29716736, 103.53432116],\n",
       "       [208.88737424, 121.4890242 ],\n",
       "       [207.05433529, 110.56550766],\n",
       "       [190.78947194, 108.79626951],\n",
       "       [204.61572984, 113.68670634],\n",
       "       [186.36148711,  91.68347536],\n",
       "       [186.28331884, 106.12526239],\n",
       "       [186.64279631, 105.11010276],\n",
       "       [197.98747138, 109.1541245 ],\n",
       "       [198.46977184,  96.68163966],\n",
       "       [204.81742554, 117.59870295],\n",
       "       [195.52556986, 113.26928406],\n",
       "       [181.71997855, 103.15009336],\n",
       "       [192.28639241, 108.24333822],\n",
       "       [185.88996897,  96.12406524],\n",
       "       [197.47937112, 112.77884269],\n",
       "       [195.17055872, 110.01987414],\n",
       "       [204.65645396, 112.81836275],\n",
       "       [196.7018885 , 114.82585425],\n",
       "       [209.49759644, 111.20644626],\n",
       "       [200.56726871, 115.39698607],\n",
       "       [210.32405608, 116.91827902],\n",
       "       [188.71360481, 107.17220676],\n",
       "       [187.23510149,  98.2413058 ],\n",
       "       [194.13253768, 109.47997887],\n",
       "       [191.60554362, 103.31944823],\n",
       "       [200.28752021, 106.49498671],\n",
       "       [211.98088665, 116.50690731],\n",
       "       [204.30082846, 109.83321224],\n",
       "       [203.43562915, 115.65095679],\n",
       "       [203.29009315, 111.1269031 ],\n",
       "       [208.07058953, 112.66562739],\n",
       "       [205.86768839, 110.32983189],\n",
       "       [200.8544518 , 106.3258863 ],\n",
       "       [196.4393043 , 101.06791739],\n",
       "       [198.30114004, 108.31264312],\n",
       "       [197.97786263, 103.7597969 ],\n",
       "       [195.9848014 , 101.0112132 ],\n",
       "       [194.06925384, 105.29391267],\n",
       "       [196.91921122,  89.53718579],\n",
       "       [190.74570972, 110.41680666],\n",
       "       [199.5405974 , 112.96266714],\n",
       "       [202.60708706, 115.24799779],\n",
       "       [190.35175332, 106.32307619],\n",
       "       [195.24279363, 104.40469027],\n",
       "       [207.26403207, 106.53685926],\n",
       "       [202.63679579, 118.80048165],\n",
       "       [202.25382163, 109.11538991],\n",
       "       [185.34802503,  96.73832602],\n",
       "       [215.18634042, 118.74557696],\n",
       "       [207.13689868, 103.35656266],\n",
       "       [198.46499807, 107.68323294],\n",
       "       [210.59011365, 123.80921201],\n",
       "       [195.79634362, 109.18173145],\n",
       "       [191.76060415,  99.84385237],\n",
       "       [215.23869477, 121.58322796],\n",
       "       [201.06085538, 110.08407919],\n",
       "       [195.59851481, 106.09770938],\n",
       "       [213.36973928, 107.76735486],\n",
       "       [205.33915935, 113.10391962],\n",
       "       [189.34119349, 107.91928927],\n",
       "       [184.12475182,  98.76911221],\n",
       "       [180.7626399 , 104.9392608 ],\n",
       "       [196.13122249, 104.403138  ],\n",
       "       [196.19152036, 115.62061552],\n",
       "       [201.5855972 , 110.31408604],\n",
       "       [193.23283467, 108.1424951 ],\n",
       "       [217.04572107, 112.2373525 ],\n",
       "       [218.02155633, 122.92580453],\n",
       "       [215.49277666, 116.63065162],\n",
       "       [199.37330202, 114.85757857],\n",
       "       [198.96636526, 107.06469264],\n",
       "       [210.03902284, 127.15073023],\n",
       "       [215.08177722, 114.20792891],\n",
       "       [208.76991837, 114.49618939],\n",
       "       [206.90921857, 116.82177391],\n",
       "       [201.36106001, 112.84076159],\n",
       "       [196.07337458, 110.29444997],\n",
       "       [214.78426866, 122.37120512],\n",
       "       [175.84464841,  99.7870379 ],\n",
       "       [199.37829607, 109.25877677],\n",
       "       [223.11501254, 128.78440887],\n",
       "       [186.89842908, 108.15776802],\n",
       "       [205.61036086, 112.9069131 ],\n",
       "       [199.32796409, 119.27289991],\n",
       "       [198.0475922 , 101.37801308],\n",
       "       [199.25053165, 119.41184859],\n",
       "       [191.22713741, 107.12673515],\n",
       "       [224.1155831 , 114.34665627],\n",
       "       [195.15052691, 110.28562661],\n",
       "       [199.66096509, 116.31409848],\n",
       "       [195.96936721, 112.02249336],\n",
       "       [200.86466791, 119.56261092],\n",
       "       [191.0466108 , 106.12169667],\n",
       "       [213.13586817, 113.04419954],\n",
       "       [200.34282766, 114.51192647],\n",
       "       [230.88079086, 124.15577516],\n",
       "       [208.1176431 , 113.51680706],\n",
       "       [197.29163948, 101.28385593],\n",
       "       [213.25466832, 117.17248992],\n",
       "       [199.20213125, 106.72313222],\n",
       "       [210.75441542, 105.22303397],\n",
       "       [197.56641874,  99.97200647],\n",
       "       [200.06233282, 108.82402923],\n",
       "       [201.51910896, 109.81827317],\n",
       "       [196.27363251, 101.27681316],\n",
       "       [221.40414361, 127.47710248],\n",
       "       [185.53173096, 101.61009786],\n",
       "       [201.12846446, 104.64540024],\n",
       "       [194.474348  , 100.50604421],\n",
       "       [177.37952238,  93.03007859],\n",
       "       [213.33842758, 111.97587503],\n",
       "       [190.94898792, 110.30410832],\n",
       "       [204.37847588, 111.54140605],\n",
       "       [210.94714036, 121.50621275],\n",
       "       [198.83881653, 110.90495326],\n",
       "       [194.99013278, 114.69976179],\n",
       "       [201.64116626, 115.10532961],\n",
       "       [206.80273899, 112.62542789],\n",
       "       [200.46242144, 120.91872568],\n",
       "       [184.31668692, 103.18641679],\n",
       "       [206.4139234 , 121.64591992],\n",
       "       [191.80453321, 106.62743616],\n",
       "       [179.33385673,  95.74001653],\n",
       "       [196.27628765, 116.27342232],\n",
       "       [201.6671232 , 114.40771317],\n",
       "       [204.19855535, 110.28001613],\n",
       "       [201.11918637, 115.29713867],\n",
       "       [194.99082457, 107.18523369],\n",
       "       [180.77672957, 100.26630775],\n",
       "       [220.59088579, 121.6094048 ],\n",
       "       [202.66158304, 110.1944759 ],\n",
       "       [199.50529393, 109.57573268],\n",
       "       [201.28636538,  99.74198925],\n",
       "       [198.00701032, 100.63407819],\n",
       "       [208.26267105, 110.20482352],\n",
       "       [191.28899099, 104.45788241],\n",
       "       [201.39530254, 113.23976455],\n",
       "       [203.86044518, 109.27760638],\n",
       "       [212.46048229, 114.04063285],\n",
       "       [214.29987565, 113.33302261],\n",
       "       [206.50572864, 108.14987676],\n",
       "       [194.53843953, 101.52472376],\n",
       "       [216.4426514 , 123.0029005 ],\n",
       "       [176.668342  , 100.96070522],\n",
       "       [187.83494693,  96.18755388],\n",
       "       [186.42030666,  99.75465992],\n",
       "       [196.17782602, 102.9737502 ],\n",
       "       [212.52198318, 113.11942054],\n",
       "       [195.91925886, 107.28862826],\n",
       "       [203.67432906, 115.15313018],\n",
       "       [206.09979176, 122.07917365],\n",
       "       [204.47243492, 115.44073578],\n",
       "       [186.30391392,  90.08043245],\n",
       "       [197.95252878, 106.99186707],\n",
       "       [209.64499587, 118.50910006],\n",
       "       [203.76571254, 104.26112332],\n",
       "       [207.88385433, 125.35306871],\n",
       "       [195.97150751, 105.19883948],\n",
       "       [192.67191966,  96.9399608 ],\n",
       "       [183.7585038 , 107.48570466],\n",
       "       [201.36531673, 110.39093195],\n",
       "       [208.6629707 , 113.20688373],\n",
       "       [192.14801847, 112.54704361],\n",
       "       [193.75196071, 113.4557013 ],\n",
       "       [226.83090854, 123.84834575],\n",
       "       [199.99294997, 115.02198891],\n",
       "       [194.30433547, 109.49316456],\n",
       "       [195.99467716, 111.34019137],\n",
       "       [194.86767083, 104.40197918],\n",
       "       [202.508988  , 109.74708402],\n",
       "       [195.02175752, 111.2273544 ],\n",
       "       [205.08282448, 110.0721529 ],\n",
       "       [198.99499342, 114.88537271],\n",
       "       [186.73141222, 107.87752138],\n",
       "       [203.30425672, 118.50483087],\n",
       "       [204.5583808 , 115.99648955],\n",
       "       [191.69696213, 106.79101408],\n",
       "       [172.49875394,  91.9367116 ],\n",
       "       [204.43960204, 102.01979912],\n",
       "       [215.65405919, 119.81407416],\n",
       "       [201.86244851, 113.35579572],\n",
       "       [191.96307067,  98.60556221],\n",
       "       [224.01567915, 123.09082785],\n",
       "       [203.43478473, 112.73643406],\n",
       "       [207.54518201,  97.62956338],\n",
       "       [207.05869205, 109.88791765],\n",
       "       [191.44865464, 108.85084741],\n",
       "       [196.75782082, 108.0637925 ],\n",
       "       [192.64079442, 105.6683304 ],\n",
       "       [209.83257845, 119.22042599],\n",
       "       [193.43919694, 116.515971  ],\n",
       "       [195.70903138, 110.16485713],\n",
       "       [181.58764703, 102.3382046 ],\n",
       "       [174.50959884, 106.32228159],\n",
       "       [205.18955714, 110.90544319],\n",
       "       [214.856642  , 120.09695094],\n",
       "       [195.40403463, 114.74315977],\n",
       "       [202.35810985, 102.36014379],\n",
       "       [222.22735567, 120.82650088],\n",
       "       [203.82481832, 112.8105976 ],\n",
       "       [187.67091992, 110.09421888],\n",
       "       [211.48759514, 103.71323554],\n",
       "       [187.04911508, 101.14698345],\n",
       "       [187.41255735,  96.47082993],\n",
       "       [182.96440841,  98.24917258],\n",
       "       [189.83687725, 101.20132645],\n",
       "       [209.77151232, 124.21194173],\n",
       "       [205.55768193, 120.25320607],\n",
       "       [214.30142578, 117.2236003 ],\n",
       "       [186.94119757,  96.18687863],\n",
       "       [175.16848526,  98.05998437],\n",
       "       [193.75014012, 108.89675789],\n",
       "       [193.44462543, 106.28979236],\n",
       "       [200.75613017, 112.56955911],\n",
       "       [202.62981041, 112.88285647],\n",
       "       [197.73717355, 102.59870322],\n",
       "       [191.06657191, 106.36887783],\n",
       "       [181.40708777, 103.93474952],\n",
       "       [197.34144501, 114.11490756],\n",
       "       [195.44897736, 108.1450325 ],\n",
       "       [205.76797464, 111.57957198],\n",
       "       [185.66438705, 108.63632723],\n",
       "       [201.06923218, 109.83957981],\n",
       "       [227.26172505, 129.52003277],\n",
       "       [189.60330396, 105.051412  ],\n",
       "       [200.36049146, 110.4995939 ],\n",
       "       [194.30113398, 111.21991373],\n",
       "       [186.84858867, 107.41666587],\n",
       "       [187.27215828, 107.88930742],\n",
       "       [190.4590557 , 104.71594577],\n",
       "       [211.05992144, 112.83392924],\n",
       "       [213.54477374, 122.31705798],\n",
       "       [202.0741788 , 108.27167244],\n",
       "       [195.22919984, 100.31959074],\n",
       "       [206.7894408 , 123.31571269],\n",
       "       [212.99490307, 111.48363412],\n",
       "       [197.01181053, 112.06735897],\n",
       "       [203.7307452 , 115.37179019],\n",
       "       [205.14846181, 117.41366361],\n",
       "       [197.52262011, 117.25672399],\n",
       "       [186.08229619, 103.30796883],\n",
       "       [199.78888803, 114.86509422],\n",
       "       [198.80391959, 113.73223308],\n",
       "       [203.33085535, 107.24067552],\n",
       "       [210.73053963, 114.31568544],\n",
       "       [209.92032948, 114.7687865 ],\n",
       "       [191.1376032 , 101.91586689],\n",
       "       [204.81479755, 106.72350017],\n",
       "       [198.7268239 , 101.93013084],\n",
       "       [188.10430392, 102.06604405],\n",
       "       [201.24310065, 107.26380481],\n",
       "       [193.25195628, 112.24630229],\n",
       "       [196.87375175, 115.52939508],\n",
       "       [211.47644083, 118.81819522],\n",
       "       [190.22758962, 105.06355326],\n",
       "       [195.27727587, 100.86833301],\n",
       "       [189.35225871, 108.64123856],\n",
       "       [199.54202771, 106.30519745],\n",
       "       [202.33514955, 112.10519792],\n",
       "       [185.82567922, 105.57430497],\n",
       "       [197.80022722, 104.92225339],\n",
       "       [210.81076987, 107.06302376],\n",
       "       [194.87903629, 108.32062159],\n",
       "       [207.51406175, 118.9666508 ],\n",
       "       [210.4854527 , 109.07530498],\n",
       "       [197.14556382, 100.18359878],\n",
       "       [200.19003731, 107.23378569],\n",
       "       [208.16309321, 112.09900799],\n",
       "       [184.50909356,  96.04182775],\n",
       "       [221.73977364, 120.69781826],\n",
       "       [201.63994369, 113.65050261],\n",
       "       [198.2957121 , 109.88696894],\n",
       "       [194.38074716, 103.96592059],\n",
       "       [192.32168791, 107.35229424],\n",
       "       [194.49395025, 111.49088818],\n",
       "       [206.12462265, 114.65576083],\n",
       "       [199.34355995, 103.97199457],\n",
       "       [206.55094015, 116.04686202],\n",
       "       [204.8089049 , 106.10082908],\n",
       "       [198.66563438, 115.43203684],\n",
       "       [199.06568116, 109.52919436],\n",
       "       [196.05419216, 113.22843173],\n",
       "       [207.52784336, 105.74566951],\n",
       "       [222.04893918, 126.82393727],\n",
       "       [195.19926015, 102.17516092],\n",
       "       [198.23561929, 105.25958023],\n",
       "       [202.0418389 , 118.22431896],\n",
       "       [203.51901023, 111.47244605],\n",
       "       [181.48362698, 109.66709944],\n",
       "       [200.37358221, 110.32979992],\n",
       "       [199.70014155, 103.58495316],\n",
       "       [197.6826195 , 108.93342168],\n",
       "       [187.28737351,  92.86115192],\n",
       "       [206.07601038, 109.63644062],\n",
       "       [209.67666431, 112.8191406 ],\n",
       "       [217.94616755, 121.36941535],\n",
       "       [185.42279617, 101.70043282],\n",
       "       [205.52672818, 116.27632924],\n",
       "       [201.48900622, 110.70076414],\n",
       "       [211.41301788, 118.98184251],\n",
       "       [181.73892736, 100.60579747],\n",
       "       [218.22511019, 122.79922583],\n",
       "       [221.03565928, 118.63660546],\n",
       "       [210.84573913, 119.51639707],\n",
       "       [192.62010862, 108.5419534 ],\n",
       "       [207.55904696, 118.58124684],\n",
       "       [196.62104056, 110.62982708],\n",
       "       [202.01492965, 115.34663718],\n",
       "       [174.26186426,  93.68223471],\n",
       "       [204.23880245, 116.62096655],\n",
       "       [188.27957062,  96.95784192],\n",
       "       [190.80443574, 114.16011309],\n",
       "       [194.76152506, 112.12098807],\n",
       "       [192.88175642, 113.90911755],\n",
       "       [185.16781392, 117.70924271],\n",
       "       [197.54648305, 113.91014817],\n",
       "       [191.4469084 , 106.05724571],\n",
       "       [197.39181304, 107.02627259],\n",
       "       [198.81920032, 111.29647668],\n",
       "       [200.04735516, 100.68131235],\n",
       "       [197.46141382, 107.21555511],\n",
       "       [199.09583011, 108.05815757],\n",
       "       [198.86914305, 104.39873662],\n",
       "       [216.1492161 , 111.88838979],\n",
       "       [207.79101079, 116.07563605],\n",
       "       [188.09218797, 111.69902581],\n",
       "       [201.30925225, 113.95698264],\n",
       "       [209.21536028, 121.71146828],\n",
       "       [201.39262223, 109.56473746],\n",
       "       [197.03793171, 108.67233453],\n",
       "       [200.68364482, 107.87274886],\n",
       "       [209.99753842, 112.264292  ],\n",
       "       [212.68553496, 119.21203251],\n",
       "       [193.51087684, 109.16184939],\n",
       "       [207.7496357 , 117.35414427],\n",
       "       [190.16137319,  99.88375674],\n",
       "       [186.14382535,  94.59450357],\n",
       "       [186.89120869, 106.70306369],\n",
       "       [182.34360603, 106.81576766],\n",
       "       [183.7852299 , 101.05610907],\n",
       "       [191.53253539, 104.8726502 ],\n",
       "       [187.03318576, 100.78538279],\n",
       "       [200.44636358, 109.71779891],\n",
       "       [210.29568919, 110.6182175 ],\n",
       "       [208.21788198, 118.99022489],\n",
       "       [200.18890824, 110.67350177],\n",
       "       [198.42927047, 120.0145097 ],\n",
       "       [208.5809575 , 106.14358201],\n",
       "       [195.15686246,  99.24100364],\n",
       "       [205.00406477, 111.72634271],\n",
       "       [209.1417692 , 114.83429359],\n",
       "       [197.35027431, 103.8469444 ],\n",
       "       [207.78789318, 109.78659801],\n",
       "       [192.01973938, 103.07247148],\n",
       "       [199.98478424, 111.73199521],\n",
       "       [200.08659031, 104.04638118],\n",
       "       [194.45955783, 106.24943951],\n",
       "       [204.95682204, 125.80003829],\n",
       "       [206.7528743 , 108.45340067],\n",
       "       [212.96190772, 124.8222374 ],\n",
       "       [204.2143031 , 118.44241826],\n",
       "       [195.67181816, 109.94492675],\n",
       "       [213.3340865 , 116.74060879],\n",
       "       [193.70356225, 107.22433791],\n",
       "       [207.42351226, 111.98981997],\n",
       "       [185.612107  ,  97.76604353],\n",
       "       [196.48833391, 100.33087752],\n",
       "       [195.50778687, 111.6371029 ],\n",
       "       [217.67157866, 114.0520341 ],\n",
       "       [185.25648291, 102.34509929],\n",
       "       [199.54902125, 113.9187923 ],\n",
       "       [198.31664836, 108.7831955 ],\n",
       "       [209.54376924, 124.53050412],\n",
       "       [215.86645551, 117.34566048],\n",
       "       [191.00317001, 105.59513378]])"
      ]
     },
     "execution_count": 10,
     "metadata": {},
     "output_type": "execute_result"
    }
   ],
   "source": [
    "z=np.vstack([x,y]).T\n",
    "z"
   ]
  },
  {
   "cell_type": "code",
   "execution_count": 11,
   "id": "845dd487",
   "metadata": {},
   "outputs": [
    {
     "data": {
      "image/png": "[encoded data removed]",
      "text/plain": [
       "<Figure size 640x480 with 1 Axes>"
      ]
     },
     "metadata": {},
     "output_type": "display_data"
    }
   ],
   "source": [
    "plt.scatter(z[:,0],z[:,1])\n",
    "plt.show()"
   ]
  },
  {
   "cell_type": "code",
   "execution_count": 12,
   "id": "813088fd",
   "metadata": {},
   "outputs": [
    {
     "data": {
      "image/png": "[encoded data removed]",
      "text/plain": [
       "<Figure size 640x480 with 1 Axes>"
      ]
     },
     "metadata": {},
     "output_type": "display_data"
    }
   ],
   "source": [
    "plt.scatter(data['x'],data['y'])\n",
    "plt.show()"
   ]
  },
  {
   "cell_type": "markdown",
   "id": "c840e3b5",
   "metadata": {},
   "source": [
    "**Observations**\n",
    "- Both points are correalted each other\n",
    "- Both points are not orthogonal to each other\n",
    "- Perform covariance matrix for better idea"
   ]
  },
  {
   "cell_type": "code",
   "execution_count": 13,
   "id": "7d299e08",
   "metadata": {},
   "outputs": [
    {
     "data": {
      "text/plain": [
       "array([[95.955855  , 49.62877528],\n",
       "       [49.62877528, 51.68230865]])"
      ]
     },
     "execution_count": 13,
     "metadata": {},
     "output_type": "execute_result"
    }
   ],
   "source": [
    "cov_mat=np.cov(z,rowvar=False)\n",
    "cov_mat\n",
    "\n",
    "# cov(x,y)=cov(y,x)"
   ]
  },
  {
   "cell_type": "markdown",
   "id": "41ad5569",
   "metadata": {},
   "source": [
    "**PCA**\n",
    "\n",
    "- to reduce the dimensions\n",
    "\n",
    "- to avoid multi collinearity\n",
    "\n",
    "- to make data has orthogonal"
   ]
  },
  {
   "cell_type": "markdown",
   "id": "8e1f76ce",
   "metadata": {},
   "source": [
    "- Need to find eigen values and eigen vectors\n",
    "- Eigen values will decide how many Pc's we need to consider\n",
    "- Eigen vector will generate new data\n",
    "\n",
    "|cov_mat - lambda*I|=0"
   ]
  },
  {
   "cell_type": "code",
   "execution_count": 14,
   "id": "5d23cff4",
   "metadata": {},
   "outputs": [],
   "source": [
    "from numpy.linalg import eig\n",
    "eig_values,eig_vectors=eig(cov_mat)"
   ]
  },
  {
   "cell_type": "code",
   "execution_count": 15,
   "id": "274343b6",
   "metadata": {},
   "outputs": [
    {
     "data": {
      "text/plain": [
       "array([128.16107353,  19.47709012])"
      ]
     },
     "execution_count": 15,
     "metadata": {},
     "output_type": "execute_result"
    }
   ],
   "source": [
    "eig_values  # two lambda values\n",
    "\n",
    "# 120/140= 86% of data varies one side\n",
    "# 19/140= 14% of data varies another side"
   ]
  },
  {
   "cell_type": "code",
   "execution_count": 16,
   "id": "6d20ad7e",
   "metadata": {},
   "outputs": [
    {
     "data": {
      "text/plain": [
       "array([[ 0.83885647, -0.54435266],\n",
       "       [ 0.54435266,  0.83885647]])"
      ]
     },
     "execution_count": 16,
     "metadata": {},
     "output_type": "execute_result"
    }
   ],
   "source": [
    "eig_vectors"
   ]
  },
  {
   "cell_type": "markdown",
   "id": "6652bbf3",
   "metadata": {},
   "source": [
    "**Quick checks**\n",
    "\n",
    "- cov_mat * eig_vector = eig_value * eig_vector\n",
    "\n",
    "-  A      *    x        =  lambda *  x\n",
    "\n",
    "- (eig_vector.T)*eigen_vector=1\n",
    "\n",
    "- A.T*A=1"
   ]
  },
  {
   "cell_type": "code",
   "execution_count": 17,
   "id": "e50b4f4f",
   "metadata": {},
   "outputs": [
    {
     "data": {
      "text/plain": [
       "array([[ 80.49318989, -27.01555596],\n",
       "       [ 41.63141929, -28.13340232]])"
      ]
     },
     "execution_count": 17,
     "metadata": {},
     "output_type": "execute_result"
    }
   ],
   "source": [
    "cov_mat*eig_vectors[0]"
   ]
  },
  {
   "cell_type": "code",
   "execution_count": 18,
   "id": "8a9908db",
   "metadata": {},
   "outputs": [
    {
     "data": {
      "text/plain": [
       "array([107.50874585, -69.76482161])"
      ]
     },
     "execution_count": 18,
     "metadata": {},
     "output_type": "execute_result"
    }
   ],
   "source": [
    "eig_values[0]*eig_vectors[0]"
   ]
  },
  {
   "cell_type": "code",
   "execution_count": 19,
   "id": "dd839e0c",
   "metadata": {},
   "outputs": [
    {
     "data": {
      "text/plain": [
       "array([0.86807551, 0.13192449])"
      ]
     },
     "execution_count": 19,
     "metadata": {},
     "output_type": "execute_result"
    }
   ],
   "source": [
    "eig_values/sum(eig_values)"
   ]
  },
  {
   "cell_type": "code",
   "execution_count": null,
   "id": "a5e11d67",
   "metadata": {},
   "outputs": [],
   "source": [
    "#PC1 = 0.868\n",
    "#PC2=  0.13\n",
    "# SO WE CAN GO FOR PC1"
   ]
  },
  {
   "cell_type": "code",
   "execution_count": 20,
   "id": "10c90a0a",
   "metadata": {},
   "outputs": [
    {
     "data": {
      "text/html": [
       "<div>\n",
       "<style scoped>\n",
       "    .dataframe tbody tr th:only-of-type {\n",
       "        vertical-align: middle;\n",
       "    }\n",
       "\n",
       "    .dataframe tbody tr th {\n",
       "        vertical-align: top;\n",
       "    }\n",
       "\n",
       "    .dataframe thead th {\n",
       "        text-align: right;\n",
       "    }\n",
       "</style>\n",
       "<table border=\"1\" class=\"dataframe\">\n",
       "  <thead>\n",
       "    <tr style=\"text-align: right;\">\n",
       "      <th></th>\n",
       "      <th>pc1</th>\n",
       "      <th>pc2</th>\n",
       "    </tr>\n",
       "  </thead>\n",
       "  <tbody>\n",
       "    <tr>\n",
       "      <th>0</th>\n",
       "      <td>230.885589</td>\n",
       "      <td>-11.728833</td>\n",
       "    </tr>\n",
       "    <tr>\n",
       "      <th>1</th>\n",
       "      <td>225.910046</td>\n",
       "      <td>-21.590420</td>\n",
       "    </tr>\n",
       "    <tr>\n",
       "      <th>2</th>\n",
       "      <td>224.700517</td>\n",
       "      <td>-16.603157</td>\n",
       "    </tr>\n",
       "    <tr>\n",
       "      <th>3</th>\n",
       "      <td>222.658589</td>\n",
       "      <td>-12.825601</td>\n",
       "    </tr>\n",
       "    <tr>\n",
       "      <th>4</th>\n",
       "      <td>215.573426</td>\n",
       "      <td>-17.048394</td>\n",
       "    </tr>\n",
       "  </tbody>\n",
       "</table>\n",
       "</div>"
      ],
      "text/plain": [
       "          pc1        pc2\n",
       "0  230.885589 -11.728833\n",
       "1  225.910046 -21.590420\n",
       "2  224.700517 -16.603157\n",
       "3  222.658589 -12.825601\n",
       "4  215.573426 -17.048394"
      ]
     },
     "execution_count": 20,
     "metadata": {},
     "output_type": "execute_result"
    }
   ],
   "source": [
    "new_data=np.dot(z,eig_vectors)\n",
    "# New pc= Original data * eigen vectors\n",
    "new_data=pd.DataFrame(new_data,columns=['pc1','pc2'])\n",
    "new_data.head()"
   ]
  },
  {
   "cell_type": "code",
   "execution_count": 25,
   "id": "eccf5e6a",
   "metadata": {},
   "outputs": [
    {
     "data": {
      "text/plain": [
       "<matplotlib.collections.PathCollection at 0x1ca54300750>"
      ]
     },
     "execution_count": 25,
     "metadata": {},
     "output_type": "execute_result"
    },
    {
     "data": {
      "image/png": "[encoded data removed]",
      "text/plain": [
       "<Figure size 640x480 with 1 Axes>"
      ]
     },
     "metadata": {},
     "output_type": "display_data"
    }
   ],
   "source": [
    "plt.scatter(new_data['pc1'],new_data['pc2'])"
   ]
  },
  {
   "cell_type": "code",
   "execution_count": 26,
   "id": "52c8bad4",
   "metadata": {},
   "outputs": [
    {
     "data": {
      "text/plain": [
       "array([[ 1.28161074e+02, -1.99350667e-14],\n",
       "       [-1.99350667e-14,  1.94770901e+01]])"
      ]
     },
     "execution_count": 26,
     "metadata": {},
     "output_type": "execute_result"
    }
   ],
   "source": [
    "cov_mat=np.cov(new_data,rowvar=False)\n",
    "cov_mat\n",
    "\n",
    "# 0.000000000000008"
   ]
  },
  {
   "cell_type": "code",
   "execution_count": 23,
   "id": "c47e3846",
   "metadata": {},
   "outputs": [],
   "source": [
    "old_data=pd.DataFrame(z,columns=['X','Y'])"
   ]
  },
  {
   "cell_type": "code",
   "execution_count": 24,
   "id": "379ed5be",
   "metadata": {},
   "outputs": [
    {
     "data": {
      "text/plain": [
       "<matplotlib.collections.PathCollection at 0x1ca542efc10>"
      ]
     },
     "execution_count": 24,
     "metadata": {},
     "output_type": "execute_result"
    },
    {
     "data": {
      "image/png": "[encoded data removed]",
      "text/plain": [
       "<Figure size 640x480 with 1 Axes>"
      ]
     },
     "metadata": {},
     "output_type": "display_data"
    }
   ],
   "source": [
    "plt.scatter(new_data['pc1'],new_data['pc2']) # Blue no correlation\n",
    "plt.scatter(old_data['X'],old_data['Y']) # Orange # Correlation"
   ]
  },
  {
   "cell_type": "markdown",
   "id": "90f8862f",
   "metadata": {},
   "source": [
    "**using PCA Package**"
   ]
  },
  {
   "cell_type": "code",
   "execution_count": 27,
   "id": "c8516c37",
   "metadata": {},
   "outputs": [
    {
     "data": {
      "text/html": [
       "<style>#sk-container-id-1 {color: black;}#sk-container-id-1 pre{padding: 0;}#sk-container-id-1 div.sk-toggleable {background-color: white;}#sk-container-id-1 label.sk-toggleable__label {cursor: pointer;display: block;width: 100%;margin-bottom: 0;padding: 0.3em;box-sizing: border-box;text-align: center;}#sk-container-id-1 label.sk-toggleable__label-arrow:before {content: \"▸\";float: left;margin-right: 0.25em;color: #696969;}#sk-container-id-1 label.sk-toggleable__label-arrow:hover:before {color: black;}#sk-container-id-1 div.sk-estimator:hover label.sk-toggleable__label-arrow:before {color: black;}#sk-container-id-1 div.sk-toggleable__content {max-height: 0;max-width: 0;overflow: hidden;text-align: left;background-color: #f0f8ff;}#sk-container-id-1 div.sk-toggleable__content pre {margin: 0.2em;color: black;border-radius: 0.25em;background-color: #f0f8ff;}#sk-container-id-1 input.sk-toggleable__control:checked~div.sk-toggleable__content {max-height: 200px;max-width: 100%;overflow: auto;}#sk-container-id-1 input.sk-toggleable__control:checked~label.sk-toggleable__label-arrow:before {content: \"▾\";}#sk-container-id-1 div.sk-estimator input.sk-toggleable__control:checked~label.sk-toggleable__label {background-color: #d4ebff;}#sk-container-id-1 div.sk-label input.sk-toggleable__control:checked~label.sk-toggleable__label {background-color: #d4ebff;}#sk-container-id-1 input.sk-hidden--visually {border: 0;clip: rect(1px 1px 1px 1px);clip: rect(1px, 1px, 1px, 1px);height: 1px;margin: -1px;overflow: hidden;padding: 0;position: absolute;width: 1px;}#sk-container-id-1 div.sk-estimator {font-family: monospace;background-color: #f0f8ff;border: 1px dotted black;border-radius: 0.25em;box-sizing: border-box;margin-bottom: 0.5em;}#sk-container-id-1 div.sk-estimator:hover {background-color: #d4ebff;}#sk-container-id-1 div.sk-parallel-item::after {content: \"\";width: 100%;border-bottom: 1px solid gray;flex-grow: 1;}#sk-container-id-1 div.sk-label:hover label.sk-toggleable__label {background-color: #d4ebff;}#sk-container-id-1 div.sk-serial::before {content: \"\";position: absolute;border-left: 1px solid gray;box-sizing: border-box;top: 0;bottom: 0;left: 50%;z-index: 0;}#sk-container-id-1 div.sk-serial {display: flex;flex-direction: column;align-items: center;background-color: white;padding-right: 0.2em;padding-left: 0.2em;position: relative;}#sk-container-id-1 div.sk-item {position: relative;z-index: 1;}#sk-container-id-1 div.sk-parallel {display: flex;align-items: stretch;justify-content: center;background-color: white;position: relative;}#sk-container-id-1 div.sk-item::before, #sk-container-id-1 div.sk-parallel-item::before {content: \"\";position: absolute;border-left: 1px solid gray;box-sizing: border-box;top: 0;bottom: 0;left: 50%;z-index: -1;}#sk-container-id-1 div.sk-parallel-item {display: flex;flex-direction: column;z-index: 1;position: relative;background-color: white;}#sk-container-id-1 div.sk-parallel-item:first-child::after {align-self: flex-end;width: 50%;}#sk-container-id-1 div.sk-parallel-item:last-child::after {align-self: flex-start;width: 50%;}#sk-container-id-1 div.sk-parallel-item:only-child::after {width: 0;}#sk-container-id-1 div.sk-dashed-wrapped {border: 1px dashed gray;margin: 0 0.4em 0.5em 0.4em;box-sizing: border-box;padding-bottom: 0.4em;background-color: white;}#sk-container-id-1 div.sk-label label {font-family: monospace;font-weight: bold;display: inline-block;line-height: 1.2em;}#sk-container-id-1 div.sk-label-container {text-align: center;}#sk-container-id-1 div.sk-container {/* jupyter's `normalize.less` sets `[hidden] { display: none; }` but bootstrap.min.css set `[hidden] { display: none !important; }` so we also need the `!important` here to be able to override the default hidden behavior on the sphinx rendered scikit-learn.org. See: https://github.com/scikit-learn/scikit-learn/issues/21755 */display: inline-block !important;position: relative;}#sk-container-id-1 div.sk-text-repr-fallback {display: none;}</style><div id=\"sk-container-id-1\" class=\"sk-top-container\"><div class=\"sk-text-repr-fallback\"><pre>PCA(n_components=2)</pre><b>In a Jupyter environment, please rerun this cell to show the HTML representation or trust the notebook. <br />On GitHub, the HTML representation is unable to render, please try loading this page with nbviewer.org.</b></div><div class=\"sk-container\" hidden><div class=\"sk-item\"><div class=\"sk-estimator sk-toggleable\"><input class=\"sk-toggleable__control sk-hidden--visually\" id=\"sk-estimator-id-1\" type=\"checkbox\" checked><label for=\"sk-estimator-id-1\" class=\"sk-toggleable__label sk-toggleable__label-arrow\">PCA</label><div class=\"sk-toggleable__content\"><pre>PCA(n_components=2)</pre></div></div></div></div></div>"
      ],
      "text/plain": [
       "PCA(n_components=2)"
      ]
     },
     "execution_count": 27,
     "metadata": {},
     "output_type": "execute_result"
    }
   ],
   "source": [
    "from sklearn.decomposition import PCA\n",
    "pca=PCA(n_components=2)\n",
    "pca.fit(z)"
   ]
  },
  {
   "cell_type": "code",
   "execution_count": 28,
   "id": "f04c97d8",
   "metadata": {},
   "outputs": [
    {
     "data": {
      "text/plain": [
       "array([[ 3.36789011e+00, -4.78012693e+00],\n",
       "       [-1.60765303e+00,  5.08146036e+00],\n",
       "       [-2.81718196e+00,  9.41972934e-02],\n",
       "       [-4.85911039e+00, -3.68335893e+00],\n",
       "       [-1.19442734e+01,  5.39433999e-01],\n",
       "       [ 5.73765275e+00, -6.84741893e+00],\n",
       "       [ 1.99677538e+00, -3.02389323e+00],\n",
       "       [-9.31015102e-01, -3.19148334e-01],\n",
       "       [ 5.03453642e+00, -8.60126484e-01],\n",
       "       [ 8.73623226e-01,  1.12415508e+00],\n",
       "       [-1.24058675e+01, -4.21398174e+00],\n",
       "       [ 2.22303172e+01,  2.22881295e+00],\n",
       "       [ 1.44731597e+01, -7.01850843e+00],\n",
       "       [-8.23424635e+00, -3.00874814e+00],\n",
       "       [-1.64867617e+01,  6.08118203e-01],\n",
       "       [-1.02795243e+01, -3.65462518e+00],\n",
       "       [-9.65947227e-01,  9.58776103e-01],\n",
       "       [-4.72085609e+00, -4.06201490e+00],\n",
       "       [ 4.62162858e+00,  9.43537842e-01],\n",
       "       [ 8.27780784e+00,  9.02247963e+00],\n",
       "       [ 5.38441541e-01,  3.86883710e-01],\n",
       "       [-1.02739374e+01,  3.62485274e-01],\n",
       "       [-1.19794090e+01, -6.22301960e+00],\n",
       "       [ 2.86322873e+00, -1.28485322e+00],\n",
       "       [ 1.68137365e+01,  8.99918596e-01],\n",
       "       [ 1.16634983e+01,  1.42353337e-02],\n",
       "       [ 7.35381633e+00, -2.54883491e+00],\n",
       "       [-1.84434119e+01,  1.52966758e+00],\n",
       "       [-5.20963216e+00,  5.39131900e+00],\n",
       "       [ 8.34882184e+00, -3.70594248e+00],\n",
       "       [ 2.65032333e+01,  4.03988926e+00],\n",
       "       [-2.19986020e+00,  6.60342364e+00],\n",
       "       [ 4.59287494e+00, -4.44245833e+00],\n",
       "       [-2.66833822e+00,  2.07735573e+00],\n",
       "       [ 4.35181487e+00,  2.24638525e+00],\n",
       "       [ 1.11450228e+01,  2.16047747e+00],\n",
       "       [ 9.13394309e+00,  1.44454888e+00],\n",
       "       [-3.10371175e+00, -2.56321371e+00],\n",
       "       [ 5.43623202e+00, -4.99360232e+00],\n",
       "       [ 9.96384234e+00,  1.24972016e+00],\n",
       "       [ 9.42532903e+00,  4.61308587e+00],\n",
       "       [ 1.81772089e+01, -7.17232922e+00],\n",
       "       [ 2.80517293e+00, -3.22857253e+00],\n",
       "       [ 2.27704701e+01, -3.00158341e+00],\n",
       "       [ 1.43572677e+01,  2.99779447e-01],\n",
       "       [ 2.05833301e+01, -7.65625196e+00],\n",
       "       [-1.74387709e-01,  2.11763643e+00],\n",
       "       [-9.86110473e-01, -1.39070066e+00],\n",
       "       [-3.30919776e+00,  1.89908777e+00],\n",
       "       [-4.59031365e+00, -5.79625932e+00],\n",
       "       [-1.68573767e+01,  2.46089916e+00],\n",
       "       [ 8.04167646e+00,  3.72453816e+00],\n",
       "       [-5.74830499e+00, -3.72034226e+00],\n",
       "       [-1.98747115e+00, -1.34850607e+00],\n",
       "       [ 1.50583395e+01,  3.84982691e+00],\n",
       "       [ 2.47203967e+00, -4.06523981e+00],\n",
       "       [-3.30764652e-01, -1.31055712e+00],\n",
       "       [-2.51206489e+01, -1.57767501e+00],\n",
       "       [ 5.69608553e+00, -4.90955537e-01],\n",
       "       [ 1.34282285e+01,  3.83279312e+00],\n",
       "       [ 4.12095387e+00,  8.03210463e+00],\n",
       "       [-5.46708395e+00,  2.89114544e+00],\n",
       "       [-6.09804552e+00,  2.33295628e+00],\n",
       "       [-9.64852581e+00, -1.08797530e+00],\n",
       "       [-4.61514047e+00,  1.83184887e+00],\n",
       "       [-7.40520771e+00,  6.16441754e+00],\n",
       "       [ 1.19870648e+01,  2.94031698e+00],\n",
       "       [-8.71554332e+00, -6.20352367e+00],\n",
       "       [ 5.11226146e+00, -1.25465260e+00],\n",
       "       [ 1.09997611e+01,  1.24795117e+01],\n",
       "       [-2.63353614e+01,  3.74497855e+00],\n",
       "       [-1.14003377e+01,  6.85987508e+00],\n",
       "       [-9.14440395e+00, -1.96897872e+00],\n",
       "       [-9.78558531e+00, -1.40891691e-01],\n",
       "       [-1.21821673e+01, -6.80306233e+00],\n",
       "       [-2.90996872e+00, -1.76222108e+00],\n",
       "       [ 6.75230351e+00, -8.72723449e+00],\n",
       "       [ 1.43915567e+00, -1.44795009e+00],\n",
       "       [ 3.96455411e+00,  9.70523382e+00],\n",
       "       [-4.16439709e+00,  2.61007170e+00],\n",
       "       [ 8.85605374e+00, -3.16718626e+00],\n",
       "       [-8.74244289e+00, -5.97959871e-01],\n",
       "       [ 1.00325848e+01, -2.07813904e+00],\n",
       "       [-7.46063839e+00,  6.72633486e+00],\n",
       "       [-1.59136238e+01,  3.24723362e+00],\n",
       "       [ 4.90560451e+00,  5.96549319e+00],\n",
       "       [ 1.10172654e+01,  2.09901772e+00],\n",
       "       [ 8.58940454e+00, -5.26559869e+00],\n",
       "       [-5.59795770e+00,  7.92698555e-01],\n",
       "       [-6.65664385e+00, -1.04196003e+01],\n",
       "       [ 1.02258334e+01, -9.31296793e-01],\n",
       "       [ 1.62265254e+01,  6.54574629e+00],\n",
       "       [ 1.45525085e+01,  6.27962659e-01],\n",
       "       [-2.92626668e+00,  7.71455413e-01],\n",
       "       [ 2.12290229e+00, -6.36533729e-01],\n",
       "       [ 2.83977584e+00,  2.47936797e+00],\n",
       "       [-8.85247406e+00,  4.93639160e+00],\n",
       "       [ 4.14946157e+00,  6.88428451e-01],\n",
       "       [-3.00810751e+01, -2.03651704e+00],\n",
       "       [-6.09749874e+00,  1.09180274e+01],\n",
       "       [-1.27805316e+01, -5.70914369e+00],\n",
       "       [-9.37145434e+00,  3.15518459e+00],\n",
       "       [-3.86476251e+00, -5.60183045e+00],\n",
       "       [-2.15759843e+00, -1.27454435e+00],\n",
       "       [ 1.71050204e+01,  7.90537665e-01],\n",
       "       [-8.60558547e+00,  2.92977298e+00],\n",
       "       [-1.27279118e+01,  7.35426430e+00],\n",
       "       [-4.80241314e+00, -1.90658856e-01],\n",
       "       [-3.14662089e+00, -3.46642727e+00],\n",
       "       [-4.13035945e+00, -3.48007913e+00],\n",
       "       [-4.38604246e+00,  2.91570841e+00],\n",
       "       [-9.34946203e-01,  8.12649580e+00],\n",
       "       [ 1.94933196e+01,  2.14072415e+00],\n",
       "       [ 1.34065495e+01, -4.12135335e+00],\n",
       "       [ 3.53704008e+00, -1.68216435e+00],\n",
       "       [ 1.00896527e+00, -2.13379155e+00],\n",
       "       [-5.18464967e+00,  3.86634944e+00],\n",
       "       [-8.86696223e+00,  4.03008362e+00],\n",
       "       [ 1.91831300e+01, -6.54501365e-01],\n",
       "       [-1.19880885e+01,  1.57934873e+00],\n",
       "       [ 7.35848988e+00, -2.80784757e+00],\n",
       "       [ 1.30054046e+01, -3.23837967e-02],\n",
       "       [-3.09055872e+00,  1.75751492e+00],\n",
       "       [ 8.23530904e+00, -1.41248211e+00],\n",
       "       [-1.23653619e+01, -3.14978301e-01],\n",
       "       [ 1.38417003e+01, -4.71241586e+00],\n",
       "       [ 6.35779843e+00,  3.45302705e+00],\n",
       "       [-8.24917694e+00, -3.91665775e+00],\n",
       "       [ 6.01119128e+00, -4.92672033e-01],\n",
       "       [-2.12790157e+01,  8.02813502e+00],\n",
       "       [-1.34831625e+01, -4.12900259e+00],\n",
       "       [-1.37342173e+01, -3.08174684e+00],\n",
       "       [-2.01628921e+00, -2.98596568e-01],\n",
       "       [-8.40113868e+00,  1.04265696e+01],\n",
       "       [ 8.30989079e+00, -3.66448211e+00],\n",
       "       [-1.84137317e+00, -5.09076744e+00],\n",
       "       [-1.89306912e+01, -4.11732923e+00],\n",
       "       [-7.29446513e+00, -2.63797512e+00],\n",
       "       [-1.92573048e+01,  4.04644531e+00],\n",
       "       [-4.69387402e-01, -3.61580061e+00],\n",
       "       [-3.90800150e+00, -2.55823017e+00],\n",
       "       [ 5.57266783e+00,  2.57911894e-01],\n",
       "       [-7.28753704e-03, -5.75617423e+00],\n",
       "       [ 8.75624049e+00,  4.24536726e+00],\n",
       "       [ 3.54610879e+00, -4.13114185e+00],\n",
       "       [ 1.25587729e+01, -9.61550985e-02],\n",
       "       [-1.08745944e+01, -3.68430601e+00],\n",
       "       [-1.69764062e+01,  3.00261084e+00],\n",
       "       [-5.07264559e+00, -2.67038504e+00],\n",
       "       [-1.05459322e+01,  1.12184001e+00],\n",
       "       [-1.53438710e+00,  3.18407608e+00],\n",
       "       [ 1.37246846e+01,  1.15082685e+00],\n",
       "       [ 3.64937445e+00,  2.56843902e+00],\n",
       "       [ 6.09050114e+00, -2.78278719e+00],\n",
       "       [ 3.50573666e+00,  9.33021616e-01],\n",
       "       [ 8.35349565e+00,  2.24452872e+00],\n",
       "       [ 5.23408126e+00,  3.00477079e+00],\n",
       "       [-1.15086313e+00,  3.63453777e+00],\n",
       "       [-7.71672755e+00,  5.64182172e+00],\n",
       "       [-2.21122885e+00,  5.78031902e-01],\n",
       "       [-4.96076617e+00,  4.22123950e+00],\n",
       "       [-8.12885733e+00,  5.44197854e+00],\n",
       "       [-7.40442794e+00,  8.06674960e-01],\n",
       "       [-1.35909390e+01,  1.55756891e+01],\n",
       "       [-7.40374345e+00, -5.29987791e+00],\n",
       "       [ 1.35975093e+00, -2.64796892e+00],\n",
       "       [ 5.17612145e+00, -2.89578152e+00],\n",
       "       [-9.96264940e+00, -2.08027683e+00],\n",
       "       [-6.90404707e+00,  2.19142443e+00],\n",
       "       [ 4.34069845e+00,  6.94663382e+00],\n",
       "       [ 7.13484686e+00, -5.85963356e+00],\n",
       "       [ 1.54148102e+00,  2.05629531e+00],\n",
       "       [-1.93775435e+01,  3.23616005e+00],\n",
       "       [ 1.76322261e+01,  1.01780163e+00],\n",
       "       [ 2.50284886e+00,  9.54524080e+00],\n",
       "       [-2.41639659e+00,  1.19521326e+00],\n",
       "       [ 1.65330547e+01, -5.73182968e+00],\n",
       "       [-3.83930300e+00, -1.51450106e+00],\n",
       "       [-1.23078085e+01,  4.12177370e+00],\n",
       "       [ 1.92208267e+01, -1.33408105e+00],\n",
       "       [ 1.06806216e+00,  5.94309687e-01],\n",
       "       [-5.68404860e+00,  9.64862166e-01],\n",
       "       [ 1.01323340e+01,  9.23808261e+00],\n",
       "       [ 6.30080331e+00,  3.90003155e-01],\n",
       "       [-9.94146121e+00, -3.96937143e+00],\n",
       "       [-1.92982303e+01,  8.66729887e-01],\n",
       "       [-1.87598228e+01, -6.13931376e+00],\n",
       "       [-6.15962775e+00,  2.67634517e+00],\n",
       "       [-2.78273793e-03, -6.70068512e+00],\n",
       "       [ 1.63345007e+00,  6.87011562e-01],\n",
       "       [-6.55543014e+00, -2.03818385e+00],\n",
       "       [ 1.56492102e+01,  7.48942663e+00],\n",
       "       [ 2.22860833e+01, -9.45451995e-01],\n",
       "       [ 1.67380168e+01,  2.95872981e+00],\n",
       "       [ 2.25091420e+00, -4.32859532e+00],\n",
       "       [-2.33252554e+00,  1.98700036e+00],\n",
       "       [ 1.78897330e+01, -8.83487161e+00],\n",
       "       [ 1.50744317e+01,  4.76731780e+00],\n",
       "       [ 9.93660347e+00,  1.08963146e+00],\n",
       "       [ 9.64168152e+00, -1.87407705e+00],\n",
       "       [ 2.82049816e+00, -1.55473400e+00],\n",
       "       [-3.00120249e+00, -2.29710966e+00],\n",
       "       [ 1.92685659e+01, -2.24244885e+00],\n",
       "       [-2.56899381e+01, -4.49446000e+00],\n",
       "       [-7.92619177e-01,  3.70714325e-01],\n",
       "       [ 2.97479088e+01, -3.08734371e+00],\n",
       "       [-1.18607734e+01, -5.49914619e+00],\n",
       "       [ 6.42106143e+00,  7.02892614e-01],\n",
       "       [ 4.61637411e+00, -8.05709603e+00],\n",
       "       [-6.19880343e+00,  6.25717175e+00],\n",
       "       [ 4.62705649e+00, -8.21580458e+00],\n",
       "       [-8.79085390e+00, -2.27791369e+00],\n",
       "       [ 2.27280149e+01,  9.56852174e+00],\n",
       "       [-3.78014225e+00, -2.79206271e+00],\n",
       "       [ 3.28508272e+00, -5.39381632e+00],\n",
       "       [-2.14778472e+00, -3.80330673e+00],\n",
       "       [ 6.06315301e+00, -7.46361316e+00],\n",
       "       [-9.48938519e+00, -1.53310080e+00],\n",
       "       [ 1.28086142e+01,  4.68425894e+00],\n",
       "       [ 2.87605042e+00, -3.51087896e+00],\n",
       "       [ 3.37426732e+01,  5.02273774e+00],\n",
       "       [ 8.85630875e+00,  1.55612488e+00],\n",
       "       [-6.88419395e+00,  5.92465121e+00],\n",
       "       [ 1.51555163e+01,  1.28588501e+00],\n",
       "       [-2.32068104e+00,  2.40186037e+00],\n",
       "       [ 6.55344481e+00,  9.94874414e+00],\n",
       "       [-7.36780234e+00,  7.17468144e+00],\n",
       "       [-4.55466499e-01,  1.10776233e+00],\n",
       "       [ 1.30777892e+00,  1.06673434e+00],\n",
       "       [-7.74198944e+00,  5.37640427e+00],\n",
       "       [ 2.76010997e+01, -2.92201733e+00],\n",
       "       [-1.65714787e+01, -7.50556464e-01],\n",
       "       [-1.83578289e+00,  5.19338390e+00],\n",
       "       [-9.67090102e+00,  5.04352348e+00],\n",
       "       [-2.80805679e+01,  2.00917178e+00],\n",
       "       [ 1.23969871e+01,  5.69069362e+00],\n",
       "       [-7.29456985e+00, -5.09468515e+00],\n",
       "       [ 4.64436933e+00,  1.17777717e+00],\n",
       "       [ 1.55789051e+01, -3.60559541e+00],\n",
       "       [-3.49064531e-01, -1.30385861e+00],\n",
       "       [-1.51184367e+00, -6.58219954e+00],\n",
       "       [ 4.28819072e+00, -3.30190495e+00],\n",
       "       [ 7.26806831e+00,  1.58809252e+00],\n",
       "       [ 6.46393063e+00, -8.82016274e+00],\n",
       "       [-1.67326528e+01, -2.73427426e+00],\n",
       "       [ 1.18522367e+01, -6.19045840e+00],\n",
       "       [-8.57829643e+00, -1.54476656e+00],\n",
       "       [-2.49660000e+01,  7.99769905e-01],\n",
       "       [ 4.23681963e-01, -7.20215303e+00],\n",
       "       [ 3.93021551e+00, -2.70257515e+00],\n",
       "       [ 3.80680087e+00,  2.13796205e+00],\n",
       "       [ 3.95473630e+00, -3.74694636e+00],\n",
       "       [-5.60181673e+00, -2.78212441e-01],\n",
       "       [-2.12917381e+01, -2.21170710e+00],\n",
       "       [ 2.37247962e+01,  1.55743977e+00],\n",
       "       [ 2.47093765e+00,  1.37306306e+00],\n",
       "       [-5.13550404e-01,  1.73965426e-01],\n",
       "       [-4.37251152e+00,  9.39259573e+00],\n",
       "       [-6.63780874e+00,  6.85913549e+00],\n",
       "       [ 7.17507933e+00,  4.41335006e+00],\n",
       "       [-1.01917647e+01, -5.45913926e-03],\n",
       "       [ 3.06642105e+00, -1.87080019e+00],\n",
       "       [ 2.97751055e+00,  2.79478879e+00],\n",
       "       [ 1.27844735e+01,  3.48074631e+00],\n",
       "       [ 1.39422710e+01,  5.07560841e+00],\n",
       "       [ 4.58264108e+00,  5.18075916e+00],\n",
       "       [-9.06261650e+00,  4.22388594e+00],\n",
       "       [ 2.10035761e+01, -1.86960555e+00],\n",
       "       [-2.43600884e+01, -5.03061863e+00],\n",
       "       [-1.75911873e+01,  5.05194138e+00],\n",
       "       [-1.68361038e+01,  1.28958820e+00],\n",
       "       [-6.89862514e+00,  3.90076514e+00],\n",
       "       [ 1.23345995e+01,  4.28698939e+00],\n",
       "       [-4.76671052e+00,  1.40450036e-01],\n",
       "       [ 6.01974287e+00, -2.23524518e+00],\n",
       "       [ 1.18245682e+01, -6.72489449e+00],\n",
       "       [ 6.84579800e+00, -2.04205395e+00],\n",
       "       [-2.21999320e+01,  9.34151782e+00],\n",
       "       [-3.22263162e+00,  1.49620597e+00],\n",
       "       [ 1.28551065e+01, -1.80027386e+00],\n",
       "       [ 1.67307556e-01,  6.95133009e+00],\n",
       "       [ 1.51032941e+01, -8.50006333e+00],\n",
       "       [-5.86046348e+00,  1.92192457e+00],\n",
       "       [-1.31240867e+01,  7.05379896e+00],\n",
       "       [-1.48605595e+01, -6.64460817e+00],\n",
       "       [ 1.49049765e+00,  5.02638614e-01],\n",
       "       [ 9.14505275e+00,  2.11295661e+00],\n",
       "       [-5.06780752e+00, -6.32349046e+00],\n",
       "       [-3.22769996e+00, -6.21261361e+00],\n",
       "       [ 3.01780532e+01,  3.07606267e+00],\n",
       "       [ 2.86020710e+00, -4.12920499e+00],\n",
       "       [-4.92135425e+00, -2.58792735e+00],\n",
       "       [-2.49796622e+00, -3.21717575e+00],\n",
       "       [-7.22019705e+00,  1.98949954e+00],\n",
       "       [ 2.09939336e+00,  1.66529511e+00],\n",
       "       [-3.37552926e+00, -3.65213312e+00],\n",
       "       [ 4.43542486e+00,  2.79368372e+00],\n",
       "       [ 1.94869740e+00, -4.55784391e+00],\n",
       "       [-1.21534296e+01, -5.35497555e+00],\n",
       "       [ 7.53381248e+00, -5.24829086e+00],\n",
       "       [ 7.22042031e+00, -2.46146672e+00],\n",
       "       [-8.57948905e+00, -1.74054156e+00],\n",
       "       [-3.27700093e+01,  2.69490450e-01],\n",
       "       [-4.87466671e-01,  9.19831294e+00],\n",
       "       [ 1.86062143e+01,  3.76089789e-01],\n",
       "       [ 3.52145134e+00, -1.71384154e+00],\n",
       "       [-1.28120347e+01,  5.27073460e+00],\n",
       "       [ 2.74041229e+01,  2.17903384e+00],\n",
       "       [ 4.50326458e+00, -3.38380599e-01],\n",
       "       [-2.72167333e-01,  1.45716213e+01],\n",
       "       [ 5.99260520e+00,  4.02379942e+00],\n",
       "       [-7.66650764e+00, -3.60361292e+00],\n",
       "       [-3.64131467e+00, -5.33280753e-02],\n",
       "       [-8.39888507e+00, -2.84993472e-01],\n",
       "       [ 1.33996735e+01, -2.29486314e+00],\n",
       "       [-1.82419791e+00, -8.94999444e+00],\n",
       "       [-3.37737835e+00, -2.38673105e+00],\n",
       "       [-1.94836521e+01, -3.50830610e+00],\n",
       "       [-2.32523757e+01, -1.07033292e+01],\n",
       "       [ 4.97856202e+00,  2.15277298e+00],\n",
       "       [ 1.80912804e+01, -2.95279394e-01],\n",
       "       [-1.14101562e+00, -6.39329564e+00],\n",
       "       [-2.04827233e+00,  7.77974680e+00],\n",
       "       [ 2.46713837e+01,  3.10500053e+00],\n",
       "       [ 4.87081791e+00, -1.88277343e-01],\n",
       "       [-1.01586523e+01, -6.70304308e+00],\n",
       "       [ 6.34661457e+00,  1.16143567e+01],\n",
       "       [-1.55507087e+01,  4.63922141e-01],\n",
       "       [-1.77913094e+01,  4.58438455e+00],\n",
       "       [-2.05546224e+01,  6.71248592e-01],\n",
       "       [-1.31825946e+01,  1.93586193e+00],\n",
       "       [ 1.60655927e+01, -6.51526993e+00],\n",
       "       [ 1.03758455e+01, -5.48826870e+00],\n",
       "       [ 1.60614176e+01,  1.81281596e+00],\n",
       "       [-1.83412823e+01,  4.56599298e+00],\n",
       "       [-2.71972681e+01, -3.41378118e+00],\n",
       "       [-5.71090016e+00, -2.38930548e+00],\n",
       "       [-7.38629176e+00, -3.68743303e-01],\n",
       "       [ 2.16541905e+00, -1.65652921e+00],\n",
       "       [ 3.90771210e+00, -8.99397898e-01],\n",
       "       [-5.79471420e+00,  5.06421070e+00],\n",
       "       [-9.33808695e+00, -1.72958443e+00],\n",
       "       [-1.87660320e+01, -4.94586606e+00],\n",
       "       [ 1.42202854e-01, -4.81164771e+00],\n",
       "       [-4.69502326e+00, -8.33949196e-01],\n",
       "       [ 5.83073509e+00,  1.90213878e+00],\n",
       "       [-1.26354526e+01, -6.57234274e+00],\n",
       "       [ 9.41995200e-01,  8.03969504e-01],\n",
       "       [ 3.36268443e+01, -1.44715257e+00],\n",
       "       [-1.12827248e+01, -1.42095350e+00],\n",
       "       [ 7.06743888e-01, -1.35492482e-01],\n",
       "       [-3.98407933e+00, -4.03816481e+00],\n",
       "       [-1.23060033e+01, -4.90459862e+00],\n",
       "       [-1.16934055e+01, -5.07050579e+00],\n",
       "       [-1.07474838e+01, -6.73714743e-01],\n",
       "       [ 1.09527316e+01,  3.73059841e+00],\n",
       "       [ 1.81993324e+01, -2.87174953e+00],\n",
       "       [ 9.31506618e-01,  2.66626412e+00],\n",
       "       [-9.13918512e+00,  5.61083679e+00],\n",
       "       [ 1.30761980e+01, -7.38676097e+00],\n",
       "       [ 1.18408667e+01,  5.91661461e+00],\n",
       "       [-1.24890169e+00, -3.27348573e+00],\n",
       "       [ 6.18609607e+00, -2.38795927e+00],\n",
       "       [ 8.48685605e+00, -3.32906019e+00],\n",
       "       [ 2.00443890e+00, -7.34855760e+00],\n",
       "       [-1.51853929e+01, -1.87512487e+00],\n",
       "       [ 2.60362238e+00, -4.10867452e+00],\n",
       "       [ 1.16069925e+00, -3.69453681e+00],\n",
       "       [ 1.42445197e+00,  4.21519778e+00],\n",
       "       [ 1.14830255e+01,  2.30831777e+00],\n",
       "       [ 1.10500222e+01,  1.48719096e+00],\n",
       "       [-1.17025103e+01,  2.04451869e+00],\n",
       "       [ 2.38774070e+00,  5.45682156e+00],\n",
       "       [-5.32847875e+00,  6.16376578e+00],\n",
       "       [-1.41652637e+01,  2.67357069e-01],\n",
       "       [-3.14284087e-01,  3.05932080e+00],\n",
       "       [-4.30547149e+00, -5.47028017e+00],\n",
       "       [ 5.19855386e-01, -6.25278979e+00],\n",
       "       [ 1.45596827e+01, -1.06260839e+00],\n",
       "       [-1.07524296e+01, -1.09130671e+00],\n",
       "       [-8.80014691e+00,  5.17669110e+00],\n",
       "       [-9.53918407e+00, -4.56895989e+00],\n",
       "       [-2.26306060e+00,  2.93747120e+00],\n",
       "       [ 3.23721342e+00, -4.07453413e-01],\n",
       "       [-1.41669716e+01, -3.91594573e+00],\n",
       "       [-4.47699049e+00,  3.14940904e+00],\n",
       "       [ 7.60232145e+00,  8.43593350e+00],\n",
       "       [-5.07753962e+00, -1.29149218e+00],\n",
       "       [ 1.13166276e+01, -3.34407292e+00],\n",
       "       [ 8.42481768e+00,  6.57083111e+00],\n",
       "       [-7.60565838e+00,  6.76809236e+00],\n",
       "       [-1.21399407e+00,  2.51126470e+00],\n",
       "       [ 8.12265217e+00,  2.77019569e+00],\n",
       "       [-2.04604273e+01,  3.36374755e+00],\n",
       "       [ 2.41923237e+01,  2.94753020e+00],\n",
       "       [ 3.49522622e+00, -2.08217941e+00],\n",
       "       [-1.35879367e+00, -7.45556208e-01],\n",
       "       [-7.86602577e+00,  2.09023192e+00],\n",
       "       [-7.74989943e+00, -1.87130391e+00],\n",
       "       [-3.67482849e+00, -4.16051343e+00],\n",
       "       [ 7.80444317e+00, -4.84199848e-01],\n",
       "       [-3.69963176e+00,  4.78665708e+00],\n",
       "       [ 8.91931200e+00, -1.41906702e+00],\n",
       "       [ 2.04384495e+00,  5.97594555e+00],\n",
       "       [ 1.96999050e+00, -5.19570412e+00],\n",
       "       [-9.07655685e-01, -2.62999885e-02],\n",
       "       [-1.42017301e+00, -4.76874124e+00],\n",
       "       [ 4.13131201e+00,  7.75393484e+00],\n",
       "       [ 2.77864384e+01, -2.02310929e+00],\n",
       "       [-8.15421565e+00,  4.03798199e+00],\n",
       "       [-3.92813427e+00,  3.10344708e+00],\n",
       "       [ 6.32212773e+00, -5.70018213e+00],\n",
       "       [ 3.88586246e+00,  7.67772296e-01],\n",
       "       [-1.55814066e+01, -9.71282055e+00],\n",
       "       [ 6.25297346e-01,  1.40662814e-02],\n",
       "       [-3.61119800e+00,  5.30543542e+00],\n",
       "       [-2.39215636e+00, -2.79405511e-01],\n",
       "       [-1.98612586e+01,  7.54424215e+00],\n",
       "       [ 5.03138413e+00,  3.69982717e+00],\n",
       "       [ 9.78432719e+00,  2.99002425e+00],\n",
       "       [ 2.13756183e+01,  3.19097054e-01],\n",
       "       [-1.66136852e+01, -8.85633474e-01],\n",
       "       [ 8.18505625e+00, -2.16908959e+00],\n",
       "       [ 1.76291335e+00,  3.10064572e-01],\n",
       "       [ 1.45955618e+01, -1.23440944e+00],\n",
       "       [-2.02997901e+01, -1.97271533e+00],\n",
       "       [ 2.23879323e+01, -7.28465546e-01],\n",
       "       [ 2.24796461e+01,  4.29330537e+00],\n",
       "       [ 1.44106826e+01, -1.99162368e+00],\n",
       "       [-6.85197317e+00, -2.70681108e+00],\n",
       "       [ 1.11445680e+01, -2.99628649e+00],\n",
       "       [-2.35922592e+00, -2.28031948e+00],\n",
       "       [ 4.73308098e+00, -3.30086827e+00],\n",
       "       [-3.03408327e+01, -2.34999103e-01],\n",
       "       [ 7.29227566e+00, -3.15927663e+00],\n",
       "       [-1.67989035e+01,  4.64781237e+00],\n",
       "       [-5.31680192e+00, -8.40800707e+00],\n",
       "       [-3.10737508e+00, -4.54342174e+00],\n",
       "       [-3.71085812e+00, -7.06666279e+00],\n",
       "       [-8.11314045e+00, -1.44535275e+01],\n",
       "       [ 2.02739022e-01, -4.52827097e+00],\n",
       "       [-9.18867701e+00, -1.26113263e+00],\n",
       "       [-3.67426292e+00,  1.16211757e+00],\n",
       "       [-1.52392899e-01, -1.64296869e+00],\n",
       "       [-4.90054023e+00,  7.93017995e+00],\n",
       "       [-3.51284141e+00,  1.04122408e+00],\n",
       "       [-1.68312783e+00,  1.22410041e+00],\n",
       "       [-3.86530128e+00,  4.17043165e+00],\n",
       "       [ 1.47072125e+01,  7.29414139e+00],\n",
       "       [ 9.97521650e+00, -7.68168544e-01],\n",
       "       [-8.93168793e+00, -7.81992737e+00],\n",
       "       [ 3.38465678e+00, -2.51928494e+00],\n",
       "       [ 1.42379216e+01, -4.72047444e+00],\n",
       "       [ 1.06366188e+00,  1.21056102e+00],\n",
       "       [-3.07508037e+00, -4.11328379e-01],\n",
       "       [-4.52106919e-01,  2.24396286e+00],\n",
       "       [ 9.75146120e+00,  3.63013127e+00],\n",
       "       [ 1.57883255e+01, -7.34807743e-01],\n",
       "       [-5.76730445e+00, -2.74192280e+00],\n",
       "       [ 1.06364681e+01, -1.86317607e+00],\n",
       "       [-1.36276117e+01,  3.21775403e+00],\n",
       "       [-1.98769767e+01,  5.46771541e+00],\n",
       "       [-1.26587025e+01, -4.28278849e+00],\n",
       "       [-1.64121377e+01, -6.85283056e+00],\n",
       "       [-1.83381076e+01, -1.23655188e+00],\n",
       "       [-9.76168597e+00, -2.20815740e-01],\n",
       "       [-1.57609094e+01,  7.58582021e-01],\n",
       "       [ 3.53206093e-01,  5.67066023e-01],\n",
       "       [ 9.10552187e+00,  5.17325068e+00],\n",
       "       [ 1.19198644e+01, -2.98072178e+00],\n",
       "       [ 6.57477401e-01, -3.74778004e-01],\n",
       "       [ 4.26619641e+00, -9.16840646e+00],\n",
       "       [ 5.23132835e+00,  7.99340886e+00],\n",
       "       [-9.78699755e+00,  6.47623951e+00],\n",
       "       [ 5.26981939e+00,  1.36318284e+00],\n",
       "       [ 1.04325809e+01,  1.00842855e+00],\n",
       "       [-5.43978371e+00,  3.80650588e+00],\n",
       "       [ 6.54914667e+00,  4.50573463e+00],\n",
       "       [-1.03329238e+01,  1.55448662e+00],\n",
       "       [ 1.06244039e+00, -1.37381752e+00],\n",
       "       [-3.03584339e+00,  5.12872795e+00],\n",
       "       [-6.55687533e+00,  2.17588101e-01],\n",
       "       [ 1.28912432e+01, -1.04683445e+01],\n",
       "       [ 4.95518487e+00,  5.06068057e+00],\n",
       "       [ 1.90740926e+01, -5.29052016e+00],\n",
       "       [ 8.26323631e+00, -4.70054947e+00],\n",
       "       [-3.52831459e+00, -2.22249814e+00],\n",
       "       [ 1.49870411e+01,  1.69140280e+00],\n",
       "       [-6.66035858e+00, -1.01173994e+00],\n",
       "       [ 7.44281312e+00,  2.45919591e+00],\n",
       "       [-1.85965759e+01,  2.51780630e+00],\n",
       "       [-8.07680837e+00,  6.28678178e+00],\n",
       "       [-2.74477271e+00, -3.73128193e+00],\n",
       "       [ 1.71620417e+01,  6.30785648e+00],\n",
       "       [-1.64022723e+01, -1.51694918e+00],\n",
       "       [ 1.88728660e+00, -3.44543515e+00],\n",
       "       [-1.94207316e+00,  1.91747987e-01],\n",
       "       [ 1.60479592e+01, -6.90647061e+00],\n",
       "       [ 1.74406967e+01,  2.56235308e+00],\n",
       "       [-9.81246169e+00, -1.11503722e+00]])"
      ]
     },
     "execution_count": 28,
     "metadata": {},
     "output_type": "execute_result"
    }
   ],
   "source": [
    "pca.transform(z)"
   ]
  },
  {
   "cell_type": "code",
   "execution_count": 29,
   "id": "312bedce",
   "metadata": {},
   "outputs": [
    {
     "data": {
      "text/plain": [
       "array([0.86807551, 0.13192449])"
      ]
     },
     "execution_count": 29,
     "metadata": {},
     "output_type": "execute_result"
    }
   ],
   "source": [
    "pca.explained_variance_ratio_"
   ]
  },
  {
   "cell_type": "code",
   "execution_count": 30,
   "id": "31816777",
   "metadata": {},
   "outputs": [
    {
     "data": {
      "text/plain": [
       "array([128.16107353,  19.47709012])"
      ]
     },
     "execution_count": 30,
     "metadata": {},
     "output_type": "execute_result"
    }
   ],
   "source": [
    "pca.explained_variance_ # Byusing package"
   ]
  },
  {
   "cell_type": "code",
   "execution_count": 31,
   "id": "600987aa",
   "metadata": {},
   "outputs": [
    {
     "data": {
      "text/plain": [
       "array([128.16107353,  19.47709012])"
      ]
     },
     "execution_count": 31,
     "metadata": {},
     "output_type": "execute_result"
    }
   ],
   "source": [
    "eig_values # Maths by scratch"
   ]
  },
  {
   "cell_type": "code",
   "execution_count": 29,
   "id": "0827ea1c",
   "metadata": {},
   "outputs": [
    {
     "data": {
      "text/plain": [
       "0.875"
      ]
     },
     "execution_count": 29,
     "metadata": {},
     "output_type": "execute_result"
    }
   ],
   "source": [
    "133/152"
   ]
  },
  {
   "cell_type": "code",
   "execution_count": 32,
   "id": "b24f26b7",
   "metadata": {},
   "outputs": [],
   "source": [
    "# Read the data\n",
    "data=pd.read_csv(\"C:\\\\Users\\\\omkar\\\\OneDrive\\\\Documents\\\\Data science\\\\Naresh IT\\\\Datafiles\\\\winequality_red.csv\")"
   ]
  },
  {
   "cell_type": "code",
   "execution_count": 33,
   "id": "d9fcb5e5",
   "metadata": {},
   "outputs": [
    {
     "data": {
      "text/html": [
       "<div>\n",
       "<style scoped>\n",
       "    .dataframe tbody tr th:only-of-type {\n",
       "        vertical-align: middle;\n",
       "    }\n",
       "\n",
       "    .dataframe tbody tr th {\n",
       "        vertical-align: top;\n",
       "    }\n",
       "\n",
       "    .dataframe thead th {\n",
       "        text-align: right;\n",
       "    }\n",
       "</style>\n",
       "<table border=\"1\" class=\"dataframe\">\n",
       "  <thead>\n",
       "    <tr style=\"text-align: right;\">\n",
       "      <th></th>\n",
       "      <th>fixed acidity</th>\n",
       "      <th>volatile acidity</th>\n",
       "      <th>citric acid</th>\n",
       "      <th>residual sugar</th>\n",
       "      <th>chlorides</th>\n",
       "      <th>free sulfur dioxide</th>\n",
       "      <th>total sulfur dioxide</th>\n",
       "      <th>density</th>\n",
       "      <th>pH</th>\n",
       "      <th>sulphates</th>\n",
       "      <th>alcohol</th>\n",
       "      <th>quality</th>\n",
       "    </tr>\n",
       "  </thead>\n",
       "  <tbody>\n",
       "    <tr>\n",
       "      <th>0</th>\n",
       "      <td>7.4</td>\n",
       "      <td>0.70</td>\n",
       "      <td>0.00</td>\n",
       "      <td>1.9</td>\n",
       "      <td>0.076</td>\n",
       "      <td>11.0</td>\n",
       "      <td>34.0</td>\n",
       "      <td>0.9978</td>\n",
       "      <td>3.51</td>\n",
       "      <td>0.56</td>\n",
       "      <td>9.4</td>\n",
       "      <td>5</td>\n",
       "    </tr>\n",
       "    <tr>\n",
       "      <th>1</th>\n",
       "      <td>7.8</td>\n",
       "      <td>0.88</td>\n",
       "      <td>0.00</td>\n",
       "      <td>2.6</td>\n",
       "      <td>0.098</td>\n",
       "      <td>25.0</td>\n",
       "      <td>67.0</td>\n",
       "      <td>0.9968</td>\n",
       "      <td>3.20</td>\n",
       "      <td>0.68</td>\n",
       "      <td>9.8</td>\n",
       "      <td>5</td>\n",
       "    </tr>\n",
       "    <tr>\n",
       "      <th>2</th>\n",
       "      <td>7.8</td>\n",
       "      <td>0.76</td>\n",
       "      <td>0.04</td>\n",
       "      <td>2.3</td>\n",
       "      <td>0.092</td>\n",
       "      <td>15.0</td>\n",
       "      <td>54.0</td>\n",
       "      <td>0.9970</td>\n",
       "      <td>3.26</td>\n",
       "      <td>0.65</td>\n",
       "      <td>9.8</td>\n",
       "      <td>5</td>\n",
       "    </tr>\n",
       "    <tr>\n",
       "      <th>3</th>\n",
       "      <td>11.2</td>\n",
       "      <td>0.28</td>\n",
       "      <td>0.56</td>\n",
       "      <td>1.9</td>\n",
       "      <td>0.075</td>\n",
       "      <td>17.0</td>\n",
       "      <td>60.0</td>\n",
       "      <td>0.9980</td>\n",
       "      <td>3.16</td>\n",
       "      <td>0.58</td>\n",
       "      <td>9.8</td>\n",
       "      <td>6</td>\n",
       "    </tr>\n",
       "    <tr>\n",
       "      <th>4</th>\n",
       "      <td>7.4</td>\n",
       "      <td>0.70</td>\n",
       "      <td>0.00</td>\n",
       "      <td>1.9</td>\n",
       "      <td>0.076</td>\n",
       "      <td>11.0</td>\n",
       "      <td>34.0</td>\n",
       "      <td>0.9978</td>\n",
       "      <td>3.51</td>\n",
       "      <td>0.56</td>\n",
       "      <td>9.4</td>\n",
       "      <td>5</td>\n",
       "    </tr>\n",
       "  </tbody>\n",
       "</table>\n",
       "</div>"
      ],
      "text/plain": [
       "   fixed acidity  volatile acidity  citric acid  residual sugar  chlorides  \\\n",
       "0            7.4              0.70         0.00             1.9      0.076   \n",
       "1            7.8              0.88         0.00             2.6      0.098   \n",
       "2            7.8              0.76         0.04             2.3      0.092   \n",
       "3           11.2              0.28         0.56             1.9      0.075   \n",
       "4            7.4              0.70         0.00             1.9      0.076   \n",
       "\n",
       "   free sulfur dioxide  total sulfur dioxide  density    pH  sulphates  \\\n",
       "0                 11.0                  34.0   0.9978  3.51       0.56   \n",
       "1                 25.0                  67.0   0.9968  3.20       0.68   \n",
       "2                 15.0                  54.0   0.9970  3.26       0.65   \n",
       "3                 17.0                  60.0   0.9980  3.16       0.58   \n",
       "4                 11.0                  34.0   0.9978  3.51       0.56   \n",
       "\n",
       "   alcohol  quality  \n",
       "0      9.4        5  \n",
       "1      9.8        5  \n",
       "2      9.8        5  \n",
       "3      9.8        6  \n",
       "4      9.4        5  "
      ]
     },
     "execution_count": 33,
     "metadata": {},
     "output_type": "execute_result"
    }
   ],
   "source": [
    "data.head()"
   ]
  },
  {
   "cell_type": "code",
   "execution_count": 34,
   "id": "adab9ee8",
   "metadata": {},
   "outputs": [],
   "source": [
    "X=data.drop('quality',axis=1)"
   ]
  },
  {
   "cell_type": "code",
   "execution_count": 35,
   "id": "442c4faa",
   "metadata": {},
   "outputs": [
    {
     "data": {
      "text/plain": [
       "11"
      ]
     },
     "execution_count": 35,
     "metadata": {},
     "output_type": "execute_result"
    }
   ],
   "source": [
    "len(X.columns)"
   ]
  },
  {
   "cell_type": "code",
   "execution_count": 36,
   "id": "8fe9dce1",
   "metadata": {},
   "outputs": [
    {
     "data": {
      "text/html": [
       "<style>#sk-container-id-2 {color: black;}#sk-container-id-2 pre{padding: 0;}#sk-container-id-2 div.sk-toggleable {background-color: white;}#sk-container-id-2 label.sk-toggleable__label {cursor: pointer;display: block;width: 100%;margin-bottom: 0;padding: 0.3em;box-sizing: border-box;text-align: center;}#sk-container-id-2 label.sk-toggleable__label-arrow:before {content: \"▸\";float: left;margin-right: 0.25em;color: #696969;}#sk-container-id-2 label.sk-toggleable__label-arrow:hover:before {color: black;}#sk-container-id-2 div.sk-estimator:hover label.sk-toggleable__label-arrow:before {color: black;}#sk-container-id-2 div.sk-toggleable__content {max-height: 0;max-width: 0;overflow: hidden;text-align: left;background-color: #f0f8ff;}#sk-container-id-2 div.sk-toggleable__content pre {margin: 0.2em;color: black;border-radius: 0.25em;background-color: #f0f8ff;}#sk-container-id-2 input.sk-toggleable__control:checked~div.sk-toggleable__content {max-height: 200px;max-width: 100%;overflow: auto;}#sk-container-id-2 input.sk-toggleable__control:checked~label.sk-toggleable__label-arrow:before {content: \"▾\";}#sk-container-id-2 div.sk-estimator input.sk-toggleable__control:checked~label.sk-toggleable__label {background-color: #d4ebff;}#sk-container-id-2 div.sk-label input.sk-toggleable__control:checked~label.sk-toggleable__label {background-color: #d4ebff;}#sk-container-id-2 input.sk-hidden--visually {border: 0;clip: rect(1px 1px 1px 1px);clip: rect(1px, 1px, 1px, 1px);height: 1px;margin: -1px;overflow: hidden;padding: 0;position: absolute;width: 1px;}#sk-container-id-2 div.sk-estimator {font-family: monospace;background-color: #f0f8ff;border: 1px dotted black;border-radius: 0.25em;box-sizing: border-box;margin-bottom: 0.5em;}#sk-container-id-2 div.sk-estimator:hover {background-color: #d4ebff;}#sk-container-id-2 div.sk-parallel-item::after {content: \"\";width: 100%;border-bottom: 1px solid gray;flex-grow: 1;}#sk-container-id-2 div.sk-label:hover label.sk-toggleable__label {background-color: #d4ebff;}#sk-container-id-2 div.sk-serial::before {content: \"\";position: absolute;border-left: 1px solid gray;box-sizing: border-box;top: 0;bottom: 0;left: 50%;z-index: 0;}#sk-container-id-2 div.sk-serial {display: flex;flex-direction: column;align-items: center;background-color: white;padding-right: 0.2em;padding-left: 0.2em;position: relative;}#sk-container-id-2 div.sk-item {position: relative;z-index: 1;}#sk-container-id-2 div.sk-parallel {display: flex;align-items: stretch;justify-content: center;background-color: white;position: relative;}#sk-container-id-2 div.sk-item::before, #sk-container-id-2 div.sk-parallel-item::before {content: \"\";position: absolute;border-left: 1px solid gray;box-sizing: border-box;top: 0;bottom: 0;left: 50%;z-index: -1;}#sk-container-id-2 div.sk-parallel-item {display: flex;flex-direction: column;z-index: 1;position: relative;background-color: white;}#sk-container-id-2 div.sk-parallel-item:first-child::after {align-self: flex-end;width: 50%;}#sk-container-id-2 div.sk-parallel-item:last-child::after {align-self: flex-start;width: 50%;}#sk-container-id-2 div.sk-parallel-item:only-child::after {width: 0;}#sk-container-id-2 div.sk-dashed-wrapped {border: 1px dashed gray;margin: 0 0.4em 0.5em 0.4em;box-sizing: border-box;padding-bottom: 0.4em;background-color: white;}#sk-container-id-2 div.sk-label label {font-family: monospace;font-weight: bold;display: inline-block;line-height: 1.2em;}#sk-container-id-2 div.sk-label-container {text-align: center;}#sk-container-id-2 div.sk-container {/* jupyter's `normalize.less` sets `[hidden] { display: none; }` but bootstrap.min.css set `[hidden] { display: none !important; }` so we also need the `!important` here to be able to override the default hidden behavior on the sphinx rendered scikit-learn.org. See: https://github.com/scikit-learn/scikit-learn/issues/21755 */display: inline-block !important;position: relative;}#sk-container-id-2 div.sk-text-repr-fallback {display: none;}</style><div id=\"sk-container-id-2\" class=\"sk-top-container\"><div class=\"sk-text-repr-fallback\"><pre>PCA(n_components=6)</pre><b>In a Jupyter environment, please rerun this cell to show the HTML representation or trust the notebook. <br />On GitHub, the HTML representation is unable to render, please try loading this page with nbviewer.org.</b></div><div class=\"sk-container\" hidden><div class=\"sk-item\"><div class=\"sk-estimator sk-toggleable\"><input class=\"sk-toggleable__control sk-hidden--visually\" id=\"sk-estimator-id-2\" type=\"checkbox\" checked><label for=\"sk-estimator-id-2\" class=\"sk-toggleable__label sk-toggleable__label-arrow\">PCA</label><div class=\"sk-toggleable__content\"><pre>PCA(n_components=6)</pre></div></div></div></div></div>"
      ],
      "text/plain": [
       "PCA(n_components=6)"
      ]
     },
     "execution_count": 36,
     "metadata": {},
     "output_type": "execute_result"
    }
   ],
   "source": [
    "from sklearn.decomposition import PCA\n",
    "pca=PCA(n_components=6)\n",
    "pca.fit(X)"
   ]
  },
  {
   "cell_type": "code",
   "execution_count": 37,
   "id": "4cf2c54f",
   "metadata": {},
   "outputs": [],
   "source": [
    "pca_data=pca.transform(X)  # Input data"
   ]
  },
  {
   "cell_type": "code",
   "execution_count": 38,
   "id": "798c22d8",
   "metadata": {},
   "outputs": [],
   "source": [
    "# 6 columns\n",
    "\n",
    "new_data=pd.DataFrame(pca_data,columns=['PC1','PC2','PC3','PC4','PC5','PC6'])"
   ]
  },
  {
   "cell_type": "code",
   "execution_count": 39,
   "id": "34e5c97b",
   "metadata": {},
   "outputs": [],
   "source": [
    "new_data['quality']=data['quality']"
   ]
  },
  {
   "cell_type": "code",
   "execution_count": 40,
   "id": "72fd1205",
   "metadata": {
    "scrolled": true
   },
   "outputs": [
    {
     "data": {
      "text/html": [
       "<div>\n",
       "<style scoped>\n",
       "    .dataframe tbody tr th:only-of-type {\n",
       "        vertical-align: middle;\n",
       "    }\n",
       "\n",
       "    .dataframe tbody tr th {\n",
       "        vertical-align: top;\n",
       "    }\n",
       "\n",
       "    .dataframe thead th {\n",
       "        text-align: right;\n",
       "    }\n",
       "</style>\n",
       "<table border=\"1\" class=\"dataframe\">\n",
       "  <thead>\n",
       "    <tr style=\"text-align: right;\">\n",
       "      <th></th>\n",
       "      <th>PC1</th>\n",
       "      <th>PC2</th>\n",
       "      <th>PC3</th>\n",
       "      <th>PC4</th>\n",
       "      <th>PC5</th>\n",
       "      <th>PC6</th>\n",
       "      <th>quality</th>\n",
       "    </tr>\n",
       "  </thead>\n",
       "  <tbody>\n",
       "    <tr>\n",
       "      <th>0</th>\n",
       "      <td>-13.224905</td>\n",
       "      <td>-2.023900</td>\n",
       "      <td>-1.126821</td>\n",
       "      <td>-0.399233</td>\n",
       "      <td>-1.085389</td>\n",
       "      <td>-0.198018</td>\n",
       "      <td>5</td>\n",
       "    </tr>\n",
       "    <tr>\n",
       "      <th>1</th>\n",
       "      <td>22.037724</td>\n",
       "      <td>4.408322</td>\n",
       "      <td>-0.310378</td>\n",
       "      <td>-0.199938</td>\n",
       "      <td>-0.557109</td>\n",
       "      <td>-0.301325</td>\n",
       "      <td>5</td>\n",
       "    </tr>\n",
       "    <tr>\n",
       "      <th>2</th>\n",
       "      <td>7.162673</td>\n",
       "      <td>-2.501461</td>\n",
       "      <td>-0.581868</td>\n",
       "      <td>-0.219069</td>\n",
       "      <td>-0.552934</td>\n",
       "      <td>-0.205114</td>\n",
       "      <td>5</td>\n",
       "    </tr>\n",
       "    <tr>\n",
       "      <th>3</th>\n",
       "      <td>13.430063</td>\n",
       "      <td>-1.951122</td>\n",
       "      <td>2.634040</td>\n",
       "      <td>-1.574059</td>\n",
       "      <td>-0.063806</td>\n",
       "      <td>0.089092</td>\n",
       "      <td>6</td>\n",
       "    </tr>\n",
       "    <tr>\n",
       "      <th>4</th>\n",
       "      <td>-13.224905</td>\n",
       "      <td>-2.023900</td>\n",
       "      <td>-1.126821</td>\n",
       "      <td>-0.399233</td>\n",
       "      <td>-1.085389</td>\n",
       "      <td>-0.198018</td>\n",
       "      <td>5</td>\n",
       "    </tr>\n",
       "    <tr>\n",
       "      <th>...</th>\n",
       "      <td>...</td>\n",
       "      <td>...</td>\n",
       "      <td>...</td>\n",
       "      <td>...</td>\n",
       "      <td>...</td>\n",
       "      <td>...</td>\n",
       "      <td>...</td>\n",
       "    </tr>\n",
       "    <tr>\n",
       "      <th>1594</th>\n",
       "      <td>1.129111</td>\n",
       "      <td>16.313102</td>\n",
       "      <td>-1.860069</td>\n",
       "      <td>-0.257109</td>\n",
       "      <td>-0.200974</td>\n",
       "      <td>-0.058238</td>\n",
       "      <td>5</td>\n",
       "    </tr>\n",
       "    <tr>\n",
       "      <th>1595</th>\n",
       "      <td>9.489984</td>\n",
       "      <td>21.627525</td>\n",
       "      <td>-1.986558</td>\n",
       "      <td>-0.027199</td>\n",
       "      <td>0.443711</td>\n",
       "      <td>0.040335</td>\n",
       "      <td>6</td>\n",
       "    </tr>\n",
       "    <tr>\n",
       "      <th>1596</th>\n",
       "      <td>-3.431354</td>\n",
       "      <td>14.271243</td>\n",
       "      <td>-1.750719</td>\n",
       "      <td>0.174652</td>\n",
       "      <td>0.236271</td>\n",
       "      <td>0.089513</td>\n",
       "      <td>6</td>\n",
       "    </tr>\n",
       "    <tr>\n",
       "      <th>1597</th>\n",
       "      <td>1.132878</td>\n",
       "      <td>16.316167</td>\n",
       "      <td>-2.134414</td>\n",
       "      <td>-0.235388</td>\n",
       "      <td>-0.519028</td>\n",
       "      <td>0.015548</td>\n",
       "      <td>5</td>\n",
       "    </tr>\n",
       "    <tr>\n",
       "      <th>1598</th>\n",
       "      <td>-3.874377</td>\n",
       "      <td>3.126348</td>\n",
       "      <td>-1.874149</td>\n",
       "      <td>1.700674</td>\n",
       "      <td>0.104330</td>\n",
       "      <td>0.400244</td>\n",
       "      <td>6</td>\n",
       "    </tr>\n",
       "  </tbody>\n",
       "</table>\n",
       "<p>1599 rows × 7 columns</p>\n",
       "</div>"
      ],
      "text/plain": [
       "            PC1        PC2       PC3       PC4       PC5       PC6  quality\n",
       "0    -13.224905  -2.023900 -1.126821 -0.399233 -1.085389 -0.198018        5\n",
       "1     22.037724   4.408322 -0.310378 -0.199938 -0.557109 -0.301325        5\n",
       "2      7.162673  -2.501461 -0.581868 -0.219069 -0.552934 -0.205114        5\n",
       "3     13.430063  -1.951122  2.634040 -1.574059 -0.063806  0.089092        6\n",
       "4    -13.224905  -2.023900 -1.126821 -0.399233 -1.085389 -0.198018        5\n",
       "...         ...        ...       ...       ...       ...       ...      ...\n",
       "1594   1.129111  16.313102 -1.860069 -0.257109 -0.200974 -0.058238        5\n",
       "1595   9.489984  21.627525 -1.986558 -0.027199  0.443711  0.040335        6\n",
       "1596  -3.431354  14.271243 -1.750719  0.174652  0.236271  0.089513        6\n",
       "1597   1.132878  16.316167 -2.134414 -0.235388 -0.519028  0.015548        5\n",
       "1598  -3.874377   3.126348 -1.874149  1.700674  0.104330  0.400244        6\n",
       "\n",
       "[1599 rows x 7 columns]"
      ]
     },
     "execution_count": 40,
     "metadata": {},
     "output_type": "execute_result"
    }
   ],
   "source": [
    "new_data"
   ]
  },
  {
   "cell_type": "code",
   "execution_count": 41,
   "id": "67467587",
   "metadata": {},
   "outputs": [
    {
     "data": {
      "text/plain": [
       "array([9.46576976e-01, 4.83683046e-02, 2.58917183e-03, 1.51896798e-03,\n",
       "       8.73553990e-04, 3.45607218e-05])"
      ]
     },
     "execution_count": 41,
     "metadata": {},
     "output_type": "execute_result"
    }
   ],
   "source": [
    "pca.explained_variance_ratio_"
   ]
  },
  {
   "cell_type": "code",
   "execution_count": null,
   "id": "34a40ea1",
   "metadata": {},
   "outputs": [],
   "source": [
    "PC1= "
   ]
  }
 ],
 "metadata": {
  "kernelspec": {
   "display_name": "Python 3 (ipykernel)",
   "language": "python",
   "name": "python3"
  },
  "language_info": {
   "codemirror_mode": {
    "name": "ipython",
    "version": 3
   },
   "file_extension": ".py",
   "mimetype": "text/x-python",
   "name": "python",
   "nbconvert_exporter": "python",
   "pygments_lexer": "ipython3",
   "version": "3.11.5"
  }
 },
 "nbformat": 4,
 "nbformat_minor": 5
}
